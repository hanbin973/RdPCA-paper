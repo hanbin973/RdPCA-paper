{
 "cells": [
  {
   "cell_type": "code",
   "execution_count": 9,
   "metadata": {},
   "outputs": [
    {
     "name": "stderr",
     "output_type": "stream",
     "text": [
      "Attaching SeuratObject\n",
      "\n"
     ]
    }
   ],
   "source": [
    "library(Matrix)\n",
    "library(Seurat)"
   ]
  },
  {
   "cell_type": "code",
   "execution_count": 17,
   "metadata": {},
   "outputs": [],
   "source": [
    "counts <- readMM('../../data/fucci/matrix.mtx')\n",
    "rownames(counts) <- read.csv('../../data/fucci/features.tsv')$x\n",
    "colnames(counts) <- read.csv('../../data/fucci/barcodes.tsv')$x\n",
    "meta <- read.csv('../../data/fucci/meta.csv', row.names=1)"
   ]
  },
  {
   "cell_type": "code",
   "execution_count": 18,
   "metadata": {},
   "outputs": [],
   "source": [
    "obj <- CreateSeuratObject(counts, meta.data=meta)\n",
    "obj@meta.data$sample <- as.logical(sample(c(TRUE,FALSE), ncol(obj), replace = TRUE))\n",
    "\n",
    "obj_orig <- subset(obj, subset=(sample == TRUE))\n",
    "obj_to_ds <- subset(obj, subset=(sample != TRUE))\n",
    "expr_ds <- apply(obj_to_ds$RNA@counts, c(1,2), function(n){rbinom(1,size=n, prob=0.5)})\n",
    "obj_ds <- CreateSeuratObject(expr_ds, meta.data=obj_to_ds@meta.data[,4:ncol(obj_to_ds@meta.data)])\n",
    "\n",
    "obj_orig@meta.data$label <- 'Original'\n",
    "obj_ds@meta.data$label <- 'Downsampled'\n",
    "obj_merge <- merge(obj_orig, y=obj_ds)"
   ]
  },
  {
   "cell_type": "code",
   "execution_count": 20,
   "metadata": {},
   "outputs": [],
   "source": [
    "df <- data.frame('x1'=cos(obj_merge@meta.data$theta), \n",
    "                 'x2'=sin(obj_merge@meta.data$theta), \n",
    "                 'y'=log10(obj_merge@meta.data$nCount_RNA), \n",
    "                 'label'=obj_merge@meta.data$label, \n",
    "                 'x4'=obj_merge@meta.data$S.Score,\n",
    "                 'x5'=obj_merge@meta.data$G2M.Score\n",
    "                )\n",
    "df$x3 <- df$x1-df$x2"
   ]
  },
  {
   "cell_type": "code",
   "execution_count": 23,
   "metadata": {},
   "outputs": [],
   "source": [
    "set.seed(777)\n",
    "\n",
    "qs <- quantile(df$y, (0:30)/100)\n",
    "lst1 <- lapply(qs, function(q){\n",
    "    summary(lm('x3~factor(label)', data=df[df$y>q,]))$coefficients[2,'Pr(>|t|)']\n",
    "})\n",
    "lst2 <- lapply(qs, function(q){\n",
    "    summary(lm('x5~factor(label)', data=df[df$y>q,]))$coefficients[2,'Pr(>|t|)']\n",
    "})\n",
    "df_result_2 <- data.frame('Fucci score'=unlist(lst1), 'Seurat score'=unlist(lst2))\n",
    "write.csv(df_result_2, 'fig1h.csv')"
   ]
  }
 ],
 "metadata": {
  "kernelspec": {
   "display_name": "R",
   "language": "R",
   "name": "ir"
  },
  "language_info": {
   "codemirror_mode": "r",
   "file_extension": ".r",
   "mimetype": "text/x-r-source",
   "name": "R",
   "pygments_lexer": "r",
   "version": "4.0.3"
  }
 },
 "nbformat": 4,
 "nbformat_minor": 4
}
