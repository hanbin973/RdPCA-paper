{
 "cells": [
  {
   "cell_type": "code",
   "execution_count": 2,
   "metadata": {},
   "outputs": [
    {
     "name": "stderr",
     "output_type": "stream",
     "text": [
      "Attaching SeuratObject\n",
      "\n",
      "Loading required package: SummarizedExperiment\n",
      "\n",
      "Loading required package: MatrixGenerics\n",
      "\n",
      "Loading required package: matrixStats\n",
      "\n",
      "\n",
      "Attaching package: ‘MatrixGenerics’\n",
      "\n",
      "\n",
      "The following objects are masked from ‘package:matrixStats’:\n",
      "\n",
      "    colAlls, colAnyNAs, colAnys, colAvgsPerRowSet, colCollapse,\n",
      "    colCounts, colCummaxs, colCummins, colCumprods, colCumsums,\n",
      "    colDiffs, colIQRDiffs, colIQRs, colLogSumExps, colMadDiffs,\n",
      "    colMads, colMaxs, colMeans2, colMedians, colMins, colOrderStats,\n",
      "    colProds, colQuantiles, colRanges, colRanks, colSdDiffs, colSds,\n",
      "    colSums2, colTabulates, colVarDiffs, colVars, colWeightedMads,\n",
      "    colWeightedMeans, colWeightedMedians, colWeightedSds,\n",
      "    colWeightedVars, rowAlls, rowAnyNAs, rowAnys, rowAvgsPerColSet,\n",
      "    rowCollapse, rowCounts, rowCummaxs, rowCummins, rowCumprods,\n",
      "    rowCumsums, rowDiffs, rowIQRDiffs, rowIQRs, rowLogSumExps,\n",
      "    rowMadDiffs, rowMads, rowMaxs, rowMeans2, rowMedians, rowMins,\n",
      "    rowOrderStats, rowProds, rowQuantiles, rowRanges, rowRanks,\n",
      "    rowSdDiffs, rowSds, rowSums2, rowTabulates, rowVarDiffs, rowVars,\n",
      "    rowWeightedMads, rowWeightedMeans, rowWeightedMedians,\n",
      "    rowWeightedSds, rowWeightedVars\n",
      "\n",
      "\n",
      "Loading required package: GenomicRanges\n",
      "\n",
      "Loading required package: stats4\n",
      "\n",
      "Loading required package: BiocGenerics\n",
      "\n",
      "Loading required package: parallel\n",
      "\n",
      "\n",
      "Attaching package: ‘BiocGenerics’\n",
      "\n",
      "\n",
      "The following objects are masked from ‘package:parallel’:\n",
      "\n",
      "    clusterApply, clusterApplyLB, clusterCall, clusterEvalQ,\n",
      "    clusterExport, clusterMap, parApply, parCapply, parLapply,\n",
      "    parLapplyLB, parRapply, parSapply, parSapplyLB\n",
      "\n",
      "\n",
      "The following objects are masked from ‘package:stats’:\n",
      "\n",
      "    IQR, mad, sd, var, xtabs\n",
      "\n",
      "\n",
      "The following objects are masked from ‘package:base’:\n",
      "\n",
      "    anyDuplicated, append, as.data.frame, basename, cbind, colnames,\n",
      "    dirname, do.call, duplicated, eval, evalq, Filter, Find, get, grep,\n",
      "    grepl, intersect, is.unsorted, lapply, Map, mapply, match, mget,\n",
      "    order, paste, pmax, pmax.int, pmin, pmin.int, Position, rank,\n",
      "    rbind, Reduce, rownames, sapply, setdiff, sort, table, tapply,\n",
      "    union, unique, unsplit, which.max, which.min\n",
      "\n",
      "\n",
      "Loading required package: S4Vectors\n",
      "\n",
      "\n",
      "Attaching package: ‘S4Vectors’\n",
      "\n",
      "\n",
      "The following object is masked from ‘package:Matrix’:\n",
      "\n",
      "    expand\n",
      "\n",
      "\n",
      "The following object is masked from ‘package:base’:\n",
      "\n",
      "    expand.grid\n",
      "\n",
      "\n",
      "Loading required package: IRanges\n",
      "\n",
      "Loading required package: GenomeInfoDb\n",
      "\n",
      "Loading required package: Biobase\n",
      "\n",
      "Welcome to Bioconductor\n",
      "\n",
      "    Vignettes contain introductory material; view with\n",
      "    'browseVignettes()'. To cite Bioconductor, see\n",
      "    'citation(\"Biobase\")', and for packages 'citation(\"pkgname\")'.\n",
      "\n",
      "\n",
      "\n",
      "Attaching package: ‘Biobase’\n",
      "\n",
      "\n",
      "The following object is masked from ‘package:MatrixGenerics’:\n",
      "\n",
      "    rowMedians\n",
      "\n",
      "\n",
      "The following objects are masked from ‘package:matrixStats’:\n",
      "\n",
      "    anyMissing, rowMedians\n",
      "\n",
      "\n",
      "\n",
      "Attaching package: ‘SummarizedExperiment’\n",
      "\n",
      "\n",
      "The following object is masked from ‘package:SeuratObject’:\n",
      "\n",
      "    Assays\n",
      "\n",
      "\n",
      "The following object is masked from ‘package:Seurat’:\n",
      "\n",
      "    Assays\n",
      "\n",
      "\n",
      "Loading required package: SingleCellExperiment\n",
      "\n",
      "\n",
      "Attaching package: ‘dplyr’\n",
      "\n",
      "\n",
      "The following object is masked from ‘package:Biobase’:\n",
      "\n",
      "    combine\n",
      "\n",
      "\n",
      "The following objects are masked from ‘package:GenomicRanges’:\n",
      "\n",
      "    intersect, setdiff, union\n",
      "\n",
      "\n",
      "The following object is masked from ‘package:GenomeInfoDb’:\n",
      "\n",
      "    intersect\n",
      "\n",
      "\n",
      "The following objects are masked from ‘package:IRanges’:\n",
      "\n",
      "    collapse, desc, intersect, setdiff, slice, union\n",
      "\n",
      "\n",
      "The following objects are masked from ‘package:S4Vectors’:\n",
      "\n",
      "    first, intersect, rename, setdiff, setequal, union\n",
      "\n",
      "\n",
      "The following objects are masked from ‘package:BiocGenerics’:\n",
      "\n",
      "    combine, intersect, setdiff, union\n",
      "\n",
      "\n",
      "The following object is masked from ‘package:matrixStats’:\n",
      "\n",
      "    count\n",
      "\n",
      "\n",
      "The following objects are masked from ‘package:stats’:\n",
      "\n",
      "    filter, lag\n",
      "\n",
      "\n",
      "The following objects are masked from ‘package:base’:\n",
      "\n",
      "    intersect, setdiff, setequal, union\n",
      "\n",
      "\n"
     ]
    }
   ],
   "source": [
    "library(Seurat)\n",
    "library(SeuratWrappers)\n",
    "library(Matrix)\n",
    "library(glmGamPoi)\n",
    "library(sctransform)\n",
    "library(zinbwave)\n",
    "library(dplyr)"
   ]
  },
  {
   "cell_type": "code",
   "execution_count": 3,
   "metadata": {},
   "outputs": [
    {
     "name": "stderr",
     "output_type": "stream",
     "text": [
      "Centering and scaling data matrix\n",
      "\n"
     ]
    }
   ],
   "source": [
    "exp_data <- read.csv('../../data/muraro/matrix.csv', row.names=1)\n",
    "exp_data_meta <- read.csv('../../data/muraro/meta.csv', row.names=1)[1:2285,]\n",
    "colnames(exp_data) <- rownames(exp_data_meta)\n",
    "size_factor <- exp_data_meta$nCount_RNA/mean(exp_data_meta$nCount_RNA)\n",
    "pbmc <- CreateSeuratObject(exp_data)\n",
    "pbmc <- NormalizeData(pbmc)\n",
    "pbmc <- FindVariableFeatures(pbmc, selection.method='vst', nfeatures=2000)\n",
    "pbmc <- ScaleData(pbmc, features = rownames(pbmc))"
   ]
  },
  {
   "cell_type": "code",
   "execution_count": 4,
   "metadata": {},
   "outputs": [],
   "source": [
    "donor <- read.csv('/data01/hanbin973/batch/batch_labels.csv')$X0\n",
    "pbmc@meta.data$donor <- donor[1:2285]\n",
    "pbmc@meta.data$logsf <- log(size_factor)"
   ]
  },
  {
   "cell_type": "markdown",
   "metadata": {},
   "source": [
    "# PCA"
   ]
  },
  {
   "cell_type": "code",
   "execution_count": 7,
   "metadata": {
    "scrolled": true
   },
   "outputs": [
    {
     "name": "stderr",
     "output_type": "stream",
     "text": [
      "PC_ 1 \n",
      "Positive:  IFITM3, ZFP36L1, REST, MYH9, S100A11, SOX4, NOTCH2, MYL12A, RBPMS, LGALS3 \n",
      "\t   PMEPA1, AHNAK, CAV2, TMSB4X, YAP1, EPS8, CLIC4, PPIC, ANO6, TMSB10 \n",
      "\t   TPM1, CDC42EP1, SH3BP4, MSN, RHOC, LITAF, CSDA, LAMC1, ANXA2, OSMR \n",
      "Negative:  SCG3, SYT7, PAM, ERO1LB, ABCC8, GAD2, VGF, MIR7-3HG, PLCXD3, LOC728392 \n",
      "\t   KIF5C, MLXIPL, STX1A, G6PC2, STMN2, PEG10, CFC1, RGS4, SCD, WNT4 \n",
      "\t   RASD1, C14orf132, ELAVL4, PRUNE2, KCNK16, SYT13, PCP4, CRYBA2, ATP2A3, MEIS2 \n",
      "PC_ 2 \n",
      "Positive:  CD24, ELF3, TACSTD2, KRT8, KIAA1522, KRT18, CFB, ANXA4, OCLN, KRT7 \n",
      "\t   CLDN4, SERPINA3, TMC5, RASEF, PDZK1IP1, CLDN1, TC2N, ABCC3, SDC4, TMPRSS2 \n",
      "\t   ERBB3, CXADR, LAD1, TM4SF1, CLMN, GATM, LCN2, KCNQ1, ATP10B, NR5A2 \n",
      "Negative:  SPARC, PDGFRB, COL6A3, MRC2, COL5A2, COL5A1, CDH11, NID1, COL5A3, COL1A2 \n",
      "\t   LAMA4, COL15A1, COL6A2, COL3A1, FBN1, BGN, LOXL2, THBS2, LUM, LTBP2 \n",
      "\t   SFRP2, PRRX1, CYGB, VCAN, SRPX2, WNT5A, EDNRA, ITGA11, COL12A1, COL4A1 \n",
      "PC_ 3 \n",
      "Positive:  CFTR, ONECUT2, DCDC2, TINAGL1, ALDH1A3, VTCN1, AQP1, KRT19, SPP1, DEFB1 \n",
      "\t   PPARGC1A, SLC4A4, PDGFD, S100A14, KRT23, APCDD1, THSD4, PKHD1, CRIM1, IGFBP7 \n",
      "\t   SERPINA5, HSD17B2, SCNN1A, BICC1, FUT3, TFPI2, SLC3A1, MMP7, PMEPA1, PAQR5 \n",
      "Negative:  CPA2, PRSS3P2, PRSS1, PLA2G1B, PNLIP, KLK1, CTRC, PRSS3, CPA1, CTRB1 \n",
      "\t   GSTA2, BCAT1, CTRB2, PNLIPRP2, CEL, REG1B, CPB1, ALB, CELA2A, AOX1 \n",
      "\t   SPINK1, PNLIPRP1, ALDOB, CELA3A, FAM129A, CBS, REG1A, GSTA1, MGST1, CTRL \n",
      "PC_ 4 \n",
      "Positive:  PECAM1, ABI3, FLT1, KDR, GIMAP4, ACVRL1, SOX18, CD93, EXOC3L2, ESAM \n",
      "\t   GMFG, CALCRL, ELTD1, PLVAP, GIMAP8, TIE1, MYCT1, NOTCH4, ERG, EMCN \n",
      "\t   LOC100505495, GPR4, PODXL, S1PR1, PTPRB, RHOJ, ARHGAP31, GIMAP7, RGCC, COL13A1 \n",
      "Negative:  NOTCH3, COL5A1, CALD1, COL6A1, SFRP2, CDH11, THBS2, LTBP2, COL6A3, COL5A2 \n",
      "\t   COL3A1, COL1A1, LUM, GLIS3, PDGFRB, COL5A3, ITGA11, LAMA2, TNFAIP6, FAT1 \n",
      "\t   PRRX1, FN1, COL12A1, COL1A2, EDNRA, COL6A2, SPON2, CYGB, GFPT2, FMOD \n",
      "PC_ 5 \n",
      "Positive:  CD53, TYROBP, LCP1, FCER1G, LAPTM5, ITGB2, RGS1, ACP5, PTPRC, C1QC \n",
      "\t   RUNX3, MS4A7, C1QB, MYO1F, ALOX5AP, IGSF6, C1QA, FCGR2A, PLA2G7, CD300A \n",
      "\t   CCR1, FYB, SDS, NCKAP1L, CSF1R, EVI2B, HCK, PLEK, DOCK2, CYBB \n",
      "Negative:  CYYR1, FLT1, KDR, PRSS23, EXOC3L2, SOX18, ESAM, CALCRL, ELTD1, PODXL \n",
      "\t   PLVAP, CD93, NOTCH4, TGFBR3, SYNE2, MYCT1, GPR4, EMCN, HADH, PDX1 \n",
      "\t   TIE1, RHOJ, LOC100505495, SCD5, MMRN2, PTPRB, ECSCR, INS, ERG, MAFA \n",
      "\n"
     ]
    }
   ],
   "source": [
    "pbmc_pca <- RunPCA(pbmc)"
   ]
  },
  {
   "cell_type": "code",
   "execution_count": 8,
   "metadata": {},
   "outputs": [],
   "source": [
    "write.csv(Embeddings(pbmc_pca), 'pca.csv')"
   ]
  },
  {
   "cell_type": "markdown",
   "metadata": {},
   "source": [
    "# SCTransform"
   ]
  },
  {
   "cell_type": "code",
   "execution_count": 9,
   "metadata": {
    "scrolled": true
   },
   "outputs": [
    {
     "name": "stderr",
     "output_type": "stream",
     "text": [
      "Calculating cell attributes from input UMI matrix: log_umi\n",
      "\n",
      "Variance stabilizing transformation of count matrix of size 17138 by 2285\n",
      "\n",
      "Model formula is y ~ (log_umi) : donor + donor + 0\n",
      "\n",
      "Get Negative Binomial regression parameters per gene\n",
      "\n",
      "Using 2000 genes, 2285 cells\n",
      "\n"
     ]
    },
    {
     "name": "stdout",
     "output_type": "stream",
     "text": [
      "  |======================================================================| 100%\n"
     ]
    },
    {
     "name": "stderr",
     "output_type": "stream",
     "text": [
      "Found 88 outliers - those will be ignored in fitting/regularization step\n",
      "\n",
      "\n",
      "Some genes not detected in batch D28 -- assuming a low mean.\n",
      "\n",
      "Some genes not detected in batch D29 -- assuming a low mean.\n",
      "\n",
      "Some genes not detected in batch D30 -- assuming a low mean.\n",
      "\n",
      "Some genes not detected in batch D31 -- assuming a low mean.\n",
      "\n",
      "Second step: Get residuals using fitted parameters for 17138 genes\n",
      "\n"
     ]
    },
    {
     "name": "stdout",
     "output_type": "stream",
     "text": [
      "  |======================================================================| 100%\n"
     ]
    },
    {
     "name": "stderr",
     "output_type": "stream",
     "text": [
      "Computing corrected count matrix for 17138 genes\n",
      "\n"
     ]
    },
    {
     "name": "stdout",
     "output_type": "stream",
     "text": [
      "  |======================================================================| 100%\n"
     ]
    },
    {
     "name": "stderr",
     "output_type": "stream",
     "text": [
      "Calculating gene attributes\n",
      "\n",
      "Wall clock passed: Time difference of 1.135273 mins\n",
      "\n",
      "Determine variable features\n",
      "\n",
      "Place corrected count matrix in counts slot\n",
      "\n",
      "Centering data matrix\n",
      "\n",
      "Set default assay to SCT\n",
      "\n"
     ]
    }
   ],
   "source": [
    "pbmc_sct <- SCTransform(pbmc, batch_var='donor', method='glmGamPoi')"
   ]
  },
  {
   "cell_type": "code",
   "execution_count": 10,
   "metadata": {},
   "outputs": [
    {
     "name": "stderr",
     "output_type": "stream",
     "text": [
      "PC_ 1 \n",
      "Positive:  CHGB, CHGA, CPE, SCG5, SCG2, PCSK2, SLC30A8, VGF, TM4SF4, TTR \n",
      "\t   GCG, GC, ALDH1A1, SCGN, G6PC2, MAFB, PAX6, NEUROD1, BEX1, PPP1R1A \n",
      "\t   RGS4, SCG3, PTPRN, ABCC8, ENPP2, SLC7A2, CRYBA2, LOXL4, TMEM176B, PAM \n",
      "Negative:  CD24, TACSTD2, ZFP36L1, IFITM3, TMSB4X, CD44, ANXA4, SOX4, SERPINA3, ANXA2 \n",
      "\t   SAT1, TM4SF1, CFB, KRT7, TPM1, S100A11, GDF15, PMEPA1, CAV2, CLDN1 \n",
      "\t   SOD2, SLC4A4, KRT8, KRT18, NFIB, CFTR, BACE2, CXCL2, MYH9, GSTA1 \n",
      "PC_ 2 \n",
      "Positive:  CD24, SERPINA3, SPINK1, REG1A, CFB, TACSTD2, GSTA1, CTRB2, REG1B, PRSS1 \n",
      "\t   CPA1, ANXA4, PRSS3P2, GSTA2, PLA2G1B, PNLIP, OLFM4, CPA2, DUOX2, CPB1 \n",
      "\t   MUC1, C15orf48, CTRB1, GDF15, SAT1, TM4SF1, ANPEP, ALDOB, LYZ, REG3A \n",
      "Negative:  SPARC, COL4A1, PXDN, COL4A2, UNC5B, IGFBP4, COL1A2, LGALS1, COL5A2, SERPINH1 \n",
      "\t   LAMA4, TIMP1, COL5A1, COL6A1, COL15A1, COL1A1, COL6A2, COL3A1, NID1, PDGFRB \n",
      "\t   COL6A3, SERPINE1, FSTL1, CALD1, MRC2, FN1, COL5A3, LOXL2, NOTCH3, ITGA1 \n",
      "PC_ 3 \n",
      "Positive:  TM4SF4, GC, GCG, PCSK2, TTR, CHGB, CFTR, LOXL4, SERPINA1, IGFBP7 \n",
      "\t   SLC4A4, KRT19, ALDH1A1, SPP1, RGS4, KCTD12, ALDH1A3, ONECUT2, CRYBA2, FAP \n",
      "\t   AQP1, IRX2, TMEM176B, SCG2, SERPING1, ANXA2, DEFB1, MMP7, MUC13, VGF \n",
      "Negative:  INS, CTRB2, REG1B, HADH, PCSK1, CPA1, IAPP, PLA2G1B, PRSS1, REG1A \n",
      "\t   PRSS3P2, PNLIP, NPTX2, CPA2, CPB1, BCAT1, MAFA, GSTA2, RBP4, FTL \n",
      "\t   SPINK1, CTRB1, CEL, UCHL1, PDX1, MEG3, REG3A, CTRC, PNLIPRP2, ALB \n",
      "PC_ 4 \n",
      "Positive:  INS, PCSK1, HADH, RBP4, IAPP, SCD5, NPTX2, SYT13, MAFA, PDX1 \n",
      "\t   SORL1, UCHL1, CASR, ABCC8, SYNE2, ADCYAP1, PFKFB2, TIMP2, PRSS23, TGFBR3 \n",
      "\t   ID1, ONECUT2, SCD, SCGN, CFTR, MEG3, DLK1, SPP1, GAD2, BHLHE41 \n",
      "Negative:  GCG, GC, TM4SF4, ALDH1A1, FAP, TTR, SPINK1, PCSK2, CTRB2, BCAT1 \n",
      "\t   REG1B, PRSS1, PLA2G1B, CPA1, PRSS3P2, LOXL4, REG1A, CPA2, PNLIP, MGST1 \n",
      "\t   GSTA2, CHGB, GSTA1, CTRB1, CPB1, PRSS3, CRYBA2, RGS4, CEL, C15orf48 \n",
      "PC_ 5 \n",
      "Positive:  SST, PRG4, LEPR, DPYSL3, AQP3, HHEX, ID2, LPHN2, SEC11C, RBP4 \n",
      "\t   BCHE, CD9, ST8SIA4, PECAM1, DUSP6, ABI3, ETV1, CALB1, FRZB, PDE2A \n",
      "\t   DIRAS3, SAMD5, RGS2, ISL1, CSF2RB, TCF4, SRGN, UNC5B, ARHGDIB, GIMAP4 \n",
      "Negative:  G6PC2, INS, IAPP, MAFA, SLC30A8, NPTX2, MAFB, MEG3, ADCYAP1, PFKFB2 \n",
      "\t   ERO1LB, FAP, SCGN, TTR, PPP1R1A, GCG, ALDH1A1, SCD, DLK1, ROBO2 \n",
      "\t   VGF, CDKN1C, GC, VEGFA, SCD5, CD24, TIMP2, PLCXD3, SLC7A2, SURF4 \n",
      "\n"
     ]
    }
   ],
   "source": [
    "pbmc_sct <- RunPCA(pbmc_sct)\n",
    "write.csv(Embeddings(pbmc_sct), 'sct.csv')"
   ]
  },
  {
   "cell_type": "markdown",
   "metadata": {},
   "source": [
    "# GLM-PCA"
   ]
  },
  {
   "cell_type": "code",
   "execution_count": 11,
   "metadata": {},
   "outputs": [
    {
     "name": "stderr",
     "output_type": "stream",
     "text": [
      "Sparse matrices are not supported for minibatch='none'. Coercing to dense matrix. If this exhausts memory, consider setting minibatch to 'stochastic' or 'memoized'.\n",
      "\n"
     ]
    }
   ],
   "source": [
    "pbmc_gpca <- RunGLMPCA(pbmc, L=30, \n",
    "                       X=as.matrix(model.matrix(as.formula('~factor(donor)'), pbmc@meta.data)), \n",
    "                       sz=size_factor)"
   ]
  },
  {
   "cell_type": "code",
   "execution_count": 12,
   "metadata": {},
   "outputs": [],
   "source": [
    "write.csv(Embeddings(pbmc_gpca, reduction='glmpca'), 'glmpca.csv')"
   ]
  },
  {
   "cell_type": "markdown",
   "metadata": {},
   "source": [
    "# ZINB-WaVE"
   ]
  },
  {
   "cell_type": "code",
   "execution_count": 26,
   "metadata": {},
   "outputs": [],
   "source": [
    "sceobj <- as.SingleCellExperiment(pbmc)\n",
    "filter1 <- rowSums(assay(sceobj)>5)>5\n",
    "sceobj <- sceobj[filter1,]\n",
    "assay(sceobj) %>% log1p %>% rowVars -> vars\n",
    "names(vars) <- rownames(sceobj)\n",
    "vars <- sort(vars, decreasing = TRUE)\n",
    "sceobj <- sceobj[names(vars)[1:2000],]\n",
    "assay(sceobj) <- apply(assay(sceobj), c(1,2), function(x){\n",
    "        as.integer(x)\n",
    "})\n",
    "sceobj <- zinbsurf(sceobj, K=20, X='~factor(donor)+logsf')"
   ]
  },
  {
   "cell_type": "code",
   "execution_count": 35,
   "metadata": {},
   "outputs": [
    {
     "ename": "ERROR",
     "evalue": "Error in .get_internal_missing(x, basefun = reducedDim, namefun = reducedDimNames, : no available entries for 'reducedDim(<SingleCellExperiment>, ...)'\n",
     "output_type": "error",
     "traceback": [
      "Error in .get_internal_missing(x, basefun = reducedDim, namefun = reducedDimNames, : no available entries for 'reducedDim(<SingleCellExperiment>, ...)'\nTraceback:\n",
      "1. reducedDim(sceobj)",
      "2. reducedDim(sceobj)",
      "3. .local(x, type = type, ...)",
      "4. .get_internal_missing(x, basefun = reducedDim, namefun = reducedDimNames, \n .     funstr = \"reducedDim\", withDimnames = withDimnames)",
      "5. stop(\"no available entries for '\", funstr, \"(<\", class(x), \">, ...)'\")"
     ]
    }
   ],
   "source": [
    "reducedDim(sceobj)"
   ]
  },
  {
   "cell_type": "markdown",
   "metadata": {},
   "source": [
    "# ARI & Silhouette"
   ]
  },
  {
   "cell_type": "code",
   "execution_count": 5,
   "metadata": {},
   "outputs": [
    {
     "name": "stderr",
     "output_type": "stream",
     "text": [
      "Package 'mclust' version 5.4.7\n",
      "Type 'citation(\"mclust\")' for citing this R package in publications.\n",
      "\n"
     ]
    }
   ],
   "source": [
    "library(mclust)\n",
    "library(cluster)"
   ]
  },
  {
   "cell_type": "code",
   "execution_count": 6,
   "metadata": {},
   "outputs": [],
   "source": [
    "pca <- read.csv('pca.csv', row.names=1)\n",
    "sct <- read.csv('sct.csv', row.names=1)\n",
    "glmpca <- read.csv('glmpca.csv', row.names=1)\n",
    "rdpca <- read.csv('rdpca.csv', header=FALSE)\n",
    "rownames(rdpca) <- rownames(pca)\n",
    "zinbwave <- read.csv('zinbwave.csv', row.names=1)\n",
    "\n",
    "pbmc[['pca']] <- CreateDimReducObject(embeddings = as.matrix(pca), key = \"pc_\", assay='RNA')\n",
    "pbmc[['sct']] <- CreateDimReducObject(embeddings = as.matrix(sct), key = \"sct_\", assay='RNA')\n",
    "pbmc[['glmpca']] <- CreateDimReducObject(embeddings = as.matrix(glmpca), key = \"glmpc_\", assay='RNA')\n",
    "pbmc[['rdpca']] <- CreateDimReducObject(embeddings = as.matrix(rdpca), key = \"rdpc_\", assay='RNA')\n",
    "pbmc[['zinbwave']] <- CreateDimReducObject(embeddings = as.matrix(zinbwave), key = \"zinbwave_\", assay='RNA')"
   ]
  },
  {
   "cell_type": "code",
   "execution_count": 8,
   "metadata": {},
   "outputs": [],
   "source": [
    "celltype <- exp_data_meta$celltype\n",
    "intname <- 1:length(unique(celltype))\n",
    "names(intname) <- unique(celltype)\n",
    "\n",
    "ress <- c(0.4, 0.5, 0.9, 1.5, 2)\n",
    "methods <- c('pca', 'sct', 'glmpca', 'rdpca', 'zinbwave')\n",
    "aris <- data.frame(matrix(1:(length(ress)*length(methods)), nrow=length(methods)))\n",
    "rownames(aris) <- methods\n",
    "colnames(aris) <- ress\n",
    "for (res in ress){\n",
    "    for (method in methods){\n",
    "        obj <- FindNeighbors(pbmc, reduction=method, dims=1:30, verbose=FALSE)\n",
    "        obj <- FindClusters(obj, resolution=res, verbose=FALSE)\n",
    "        \n",
    "        aris[method, as.character(res)] <- adjustedRandIndex(obj$seurat_clusters, celltype)\n",
    "    }\n",
    "}"
   ]
  },
  {
   "cell_type": "code",
   "execution_count": 9,
   "metadata": {},
   "outputs": [],
   "source": [
    "sils <- data.frame(matrix(1:length(methods), nrow=length(methods)))\n",
    "rownames(sils) <- methods\n",
    "colnames(sils) <- c('Silhouette')\n",
    "for (method in methods){\n",
    "    obj <- RunTSNE(pbmc, reduction=method, perplexity=70, dims=1:30)\n",
    "    dist_mat <- dist(Embeddings(obj, reduction='tsne'))\n",
    "    silscore <- silhouette(as.vector(intname[celltype]), dist_mat) \n",
    "    \n",
    "    \n",
    "    sils[method, 'Silhouette']<- (summary(silscore)$avg.width)\n",
    "\n",
    "}"
   ]
  },
  {
   "cell_type": "code",
   "execution_count": 10,
   "metadata": {},
   "outputs": [
    {
     "data": {
      "text/html": [
       "<table class=\"dataframe\">\n",
       "<caption>A data.frame: 5 × 6</caption>\n",
       "<thead>\n",
       "\t<tr><th></th><th scope=col>ARI_ 0.4</th><th scope=col>ARI_ 0.5</th><th scope=col>ARI_ 0.9</th><th scope=col>ARI_ 1.5</th><th scope=col>ARI_ 2</th><th scope=col>Silhouette</th></tr>\n",
       "\t<tr><th></th><th scope=col>&lt;dbl&gt;</th><th scope=col>&lt;dbl&gt;</th><th scope=col>&lt;dbl&gt;</th><th scope=col>&lt;dbl&gt;</th><th scope=col>&lt;dbl&gt;</th><th scope=col>&lt;dbl&gt;</th></tr>\n",
       "</thead>\n",
       "<tbody>\n",
       "\t<tr><th scope=row>pca</th><td>0.7500075</td><td>0.6961619</td><td>0.57034592</td><td>0.48211451</td><td>0.38499285</td><td> 0.4634273</td></tr>\n",
       "\t<tr><th scope=row>sct</th><td>0.6035467</td><td>0.5749250</td><td>0.57492498</td><td>0.50795812</td><td>0.37234576</td><td> 0.4386040</td></tr>\n",
       "\t<tr><th scope=row>glmpca</th><td>0.1067382</td><td>0.1015778</td><td>0.08342266</td><td>0.06228432</td><td>0.05907963</td><td>-0.1059929</td></tr>\n",
       "\t<tr><th scope=row>rdpca</th><td>0.9529520</td><td>0.9529520</td><td>0.75447917</td><td>0.58491420</td><td>0.43794636</td><td> 0.6106239</td></tr>\n",
       "\t<tr><th scope=row>zinbwave</th><td>0.9407659</td><td>0.9407659</td><td>0.94076592</td><td>0.69575713</td><td>0.59828659</td><td> 0.4765458</td></tr>\n",
       "</tbody>\n",
       "</table>\n"
      ],
      "text/latex": [
       "A data.frame: 5 × 6\n",
       "\\begin{tabular}{r|llllll}\n",
       "  & ARI\\_ 0.4 & ARI\\_ 0.5 & ARI\\_ 0.9 & ARI\\_ 1.5 & ARI\\_ 2 & Silhouette\\\\\n",
       "  & <dbl> & <dbl> & <dbl> & <dbl> & <dbl> & <dbl>\\\\\n",
       "\\hline\n",
       "\tpca & 0.7500075 & 0.6961619 & 0.57034592 & 0.48211451 & 0.38499285 &  0.4634273\\\\\n",
       "\tsct & 0.6035467 & 0.5749250 & 0.57492498 & 0.50795812 & 0.37234576 &  0.4386040\\\\\n",
       "\tglmpca & 0.1067382 & 0.1015778 & 0.08342266 & 0.06228432 & 0.05907963 & -0.1059929\\\\\n",
       "\trdpca & 0.9529520 & 0.9529520 & 0.75447917 & 0.58491420 & 0.43794636 &  0.6106239\\\\\n",
       "\tzinbwave & 0.9407659 & 0.9407659 & 0.94076592 & 0.69575713 & 0.59828659 &  0.4765458\\\\\n",
       "\\end{tabular}\n"
      ],
      "text/markdown": [
       "\n",
       "A data.frame: 5 × 6\n",
       "\n",
       "| <!--/--> | ARI_ 0.4 &lt;dbl&gt; | ARI_ 0.5 &lt;dbl&gt; | ARI_ 0.9 &lt;dbl&gt; | ARI_ 1.5 &lt;dbl&gt; | ARI_ 2 &lt;dbl&gt; | Silhouette &lt;dbl&gt; |\n",
       "|---|---|---|---|---|---|---|\n",
       "| pca | 0.7500075 | 0.6961619 | 0.57034592 | 0.48211451 | 0.38499285 |  0.4634273 |\n",
       "| sct | 0.6035467 | 0.5749250 | 0.57492498 | 0.50795812 | 0.37234576 |  0.4386040 |\n",
       "| glmpca | 0.1067382 | 0.1015778 | 0.08342266 | 0.06228432 | 0.05907963 | -0.1059929 |\n",
       "| rdpca | 0.9529520 | 0.9529520 | 0.75447917 | 0.58491420 | 0.43794636 |  0.6106239 |\n",
       "| zinbwave | 0.9407659 | 0.9407659 | 0.94076592 | 0.69575713 | 0.59828659 |  0.4765458 |\n",
       "\n"
      ],
      "text/plain": [
       "         ARI_ 0.4  ARI_ 0.5  ARI_ 0.9   ARI_ 1.5   ARI_ 2     Silhouette\n",
       "pca      0.7500075 0.6961619 0.57034592 0.48211451 0.38499285  0.4634273\n",
       "sct      0.6035467 0.5749250 0.57492498 0.50795812 0.37234576  0.4386040\n",
       "glmpca   0.1067382 0.1015778 0.08342266 0.06228432 0.05907963 -0.1059929\n",
       "rdpca    0.9529520 0.9529520 0.75447917 0.58491420 0.43794636  0.6106239\n",
       "zinbwave 0.9407659 0.9407659 0.94076592 0.69575713 0.59828659  0.4765458"
      ]
     },
     "metadata": {},
     "output_type": "display_data"
    }
   ],
   "source": [
    "df <- cbind(aris,sils)\n",
    "colnames(df) <- c(paste('ARI_', ress), 'Silhouette')\n",
    "df"
   ]
  }
 ],
 "metadata": {
  "kernelspec": {
   "display_name": "R",
   "language": "R",
   "name": "ir"
  },
  "language_info": {
   "codemirror_mode": "r",
   "file_extension": ".r",
   "mimetype": "text/x-r-source",
   "name": "R",
   "pygments_lexer": "r",
   "version": "4.0.3"
  }
 },
 "nbformat": 4,
 "nbformat_minor": 4
}
