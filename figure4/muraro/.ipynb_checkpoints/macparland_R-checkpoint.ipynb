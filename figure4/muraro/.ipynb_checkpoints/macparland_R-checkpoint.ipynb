{
 "cells": [
  {
   "cell_type": "code",
   "execution_count": 2,
   "metadata": {},
   "outputs": [
    {
     "name": "stderr",
     "output_type": "stream",
     "text": [
      "Attaching SeuratObject\n",
      "\n"
     ]
    }
   ],
   "source": [
    "library(Seurat)\n",
    "library(SeuratWrappers)\n",
    "library(Matrix)\n",
    "library(glmGamPoi)\n",
    "library(sctransform)"
   ]
  },
  {
   "cell_type": "code",
   "execution_count": 13,
   "metadata": {},
   "outputs": [
    {
     "name": "stderr",
     "output_type": "stream",
     "text": [
      "Centering and scaling data matrix\n",
      "\n"
     ]
    }
   ],
   "source": [
    "exp_data <- readMM('../../data/macparland/matrix.mtx')\n",
    "exp_data_meta <- read.csv('../../data/macparland/meta.csv', row.names=1)\n",
    "colnames(exp_data) <- rownames(exp_data_meta)\n",
    "rownames(exp_data) <- read.csv('../../data/macparland/features.tsv')$x\n",
    "size_factor <- exp_data_meta$nCount_RNA/mean(exp_data_meta$nCount_RNA)\n",
    "pbmc <- CreateSeuratObject(exp_data)\n",
    "pbmc <- NormalizeData(pbmc)\n",
    "pbmc <- FindVariableFeatures(pbmc, selection.method='vst', nfeatures=2000)\n",
    "pbmc <- ScaleData(pbmc, features = rownames(pbmc))"
   ]
  },
  {
   "cell_type": "markdown",
   "metadata": {},
   "source": [
    "# PCA"
   ]
  },
  {
   "cell_type": "code",
   "execution_count": 14,
   "metadata": {
    "scrolled": true
   },
   "outputs": [
    {
     "name": "stderr",
     "output_type": "stream",
     "text": [
      "PC_ 1 \n",
      "Positive:  HP, RBP4, FGA, AMBP, ORM1, CYP2E1, AZGP1, SERPINA1, HPX, APOH \n",
      "\t   FGB, APCS, MGST1, ORM2, APOA1, VTN, FGL1, FGG, MT1G, TTR \n",
      "\t   RARRES2, MT1X, ANG, APOE, SAA1, GC, FABP1, AGT, SAA4, C3 \n",
      "Negative:  TMSB10, HLA-E, IGFBP7, ID3, GNG11, LIFR, TIMP1, HSPG2, PTPRB, IFI27 \n",
      "\t   ENG, RAMP3, DNASE1L3, TM4SF1, SDPR, PRSS23, CCL14, IL33, NPDC1, RNASE1 \n",
      "\t   PCAT19, VIM, EGFL7, ID1, TSPAN7, MRC1, C7, FCN3, SRPX, CLDN5 \n",
      "PC_ 2 \n",
      "Positive:  TFPI, TIMP3, ID1, CALD1, PLPP3, IL6ST, GPX3, TM4SF1, RBP4, TGM2 \n",
      "\t   HSPG2, CYB5A, APP, PTPRB, AMBP, LIFR, RARRES2, ADIRF, FGA, HP \n",
      "\t   NR2F2, FGB, APOH, APCS, SLC9A3R2, VTN, AZGP1, CYP2E1, TTR, HPX \n",
      "Negative:  TYROBP, CORO1A, S100A4, CYBA, FCER1G, CTSS, TMSB10, EVI2B, HCLS1, RAC2 \n",
      "\t   AIF1, LST1, UCP2, CD37, NKG7, C1orf162, CCL4, CD74, CD163, LSP1 \n",
      "\t   HLA-DRA, FCGR3A, HLA-DPB1, CCL3, GZMA, CCL5, HLA-DPA1, RNASE6, PYCARD, CD52 \n",
      "PC_ 3 \n",
      "Positive:  GZMA, CCL5, NKG7, ISG20, CD7, KLRB1, KLRD1, RAC2, PRF1, CTSW \n",
      "\t   CD247, CD69, TRBC2, FKBP11, CMC1, IFITM1, KLRF1, IL32, CORO1A, CD2 \n",
      "\t   CD3E, TRBC1, GZMK, LCK, C12orf75, TRAC, CD3D, XCL2, MATK, LSP1 \n",
      "Negative:  FTL, CD163, AIF1, MS4A7, CTSB, C1QA, C1QB, C1QC, MAFB, LST1 \n",
      "\t   CD68, MS4A6A, MPEG1, HMOX1, VSIG4, SAT1, CTSS, HLA-DRA, CYBB, MS4A4A \n",
      "\t   NPC2, SLC7A7, MARCO, MSR1, CLEC7A, LYZ, CREG1, SPI1, RNASE6, SLC40A1 \n",
      "PC_ 4 \n",
      "Positive:  TOP2A, KIAA0101, MKI67, MZB1, UBE2C, RRM2, BIRC5, PTTG1, MYBL2, JCHAIN \n",
      "\t   TYMS, NUSAP1, POU2AF1, TNFRSF17, CDKN3, CENPW, TK1, CDC20, AURKB, CENPF \n",
      "\t   ZWINT, GTSE1, HSP90B1, CDK1, TUBA1B, SEC11C, PLK1, ITM2C, CENPM, CCNA2 \n",
      "Negative:  CCL5, NKG7, GZMA, KLRD1, CD7, KLRB1, CCL4, PRF1, CD69, CTSW \n",
      "\t   IL32, IFITM1, CD2, CMC1, DUSP2, KLRF1, GZMK, CD247, CD3D, TRBC2 \n",
      "\t   ALOX5AP, TRAC, CD3E, LCK, TRBC1, HOPX, MATK, GZMH, JUNB, XCL2 \n",
      "PC_ 5 \n",
      "Positive:  FXYD2, SPP1, CLDN10, KRT19, KRT7, ANXA4, TACSTD2, CD24, EPCAM, S100A14 \n",
      "\t   PLPP2, CLDN4, PDZK1IP1, ELF3, SOX9, PIGR, LGALS4, CHST4, SMIM22, ANXA13 \n",
      "\t   PLLP, LGALS2, SPINT2, LCN2, SFRP5, TSPAN8, AQP1, FGFR2, C19orf33, BICC1 \n",
      "Negative:  CLEC4G, FCN2, CRHBP, CLEC4M, CLEC1B, OIT3, FCGR2B, FCN3, STAB2, STAB1 \n",
      "\t   RELN, LYVE1, CD4, EHD3, KDR, ADGRL4, TM4SF18, HECW2, DNASE1L3, MRC1 \n",
      "\t   MAF, MEG3, SPARC, LGMN, GPR182, MS4A6A, CCL23, ADGRF5, CD36, NRP1 \n",
      "\n"
     ]
    }
   ],
   "source": [
    "pbmc_pca <- RunPCA(pbmc)"
   ]
  },
  {
   "cell_type": "code",
   "execution_count": 15,
   "metadata": {},
   "outputs": [],
   "source": [
    "write.csv(Embeddings(pbmc_pca), 'pca.csv')"
   ]
  },
  {
   "cell_type": "markdown",
   "metadata": {},
   "source": [
    "# SCTransform"
   ]
  },
  {
   "cell_type": "code",
   "execution_count": 16,
   "metadata": {
    "scrolled": true
   },
   "outputs": [
    {
     "name": "stderr",
     "output_type": "stream",
     "text": [
      "Calculating cell attributes from input UMI matrix: log_umi\n",
      "\n",
      "Variance stabilizing transformation of count matrix of size 18715 by 8444\n",
      "\n",
      "Model formula is y ~ (log_umi) : orig.ident + orig.ident + 0\n",
      "\n",
      "Get Negative Binomial regression parameters per gene\n",
      "\n",
      "Using 2000 genes, 5000 cells\n",
      "\n"
     ]
    },
    {
     "name": "stdout",
     "output_type": "stream",
     "text": [
      "  |======================================================================| 100%\n"
     ]
    },
    {
     "name": "stderr",
     "output_type": "stream",
     "text": [
      "Found 232 outliers - those will be ignored in fitting/regularization step\n",
      "\n",
      "\n",
      "Some genes not detected in batch P1TLH -- assuming a low mean.\n",
      "\n",
      "Some genes not detected in batch P2TLH -- assuming a low mean.\n",
      "\n",
      "Some genes not detected in batch P3TLH -- assuming a low mean.\n",
      "\n",
      "Some genes not detected in batch P4TLH -- assuming a low mean.\n",
      "\n",
      "Some genes not detected in batch P5TLH -- assuming a low mean.\n",
      "\n",
      "Second step: Get residuals using fitted parameters for 18715 genes\n",
      "\n"
     ]
    },
    {
     "name": "stdout",
     "output_type": "stream",
     "text": [
      "  |======================================================================| 100%\n"
     ]
    },
    {
     "name": "stderr",
     "output_type": "stream",
     "text": [
      "Computing corrected count matrix for 18715 genes\n",
      "\n"
     ]
    },
    {
     "name": "stdout",
     "output_type": "stream",
     "text": [
      "  |======================================================================| 100%\n"
     ]
    },
    {
     "name": "stderr",
     "output_type": "stream",
     "text": [
      "Calculating gene attributes\n",
      "\n",
      "Wall clock passed: Time difference of 2.61311 mins\n",
      "\n",
      "Determine variable features\n",
      "\n",
      "Place corrected count matrix in counts slot\n",
      "\n",
      "Centering data matrix\n",
      "\n",
      "Set default assay to SCT\n",
      "\n"
     ]
    }
   ],
   "source": [
    "pbmc_sct <- SCTransform(pbmc, batch_var='orig.ident', method='glmGamPoi')"
   ]
  },
  {
   "cell_type": "code",
   "execution_count": 17,
   "metadata": {},
   "outputs": [
    {
     "name": "stderr",
     "output_type": "stream",
     "text": [
      "PC_ 1 \n",
      "Positive:  SAA2, SAA1, ORM1, HP, APOC3, APOA2, SERPINA1, FGB, FGA, ALB \n",
      "\t   APOC1, APOA1, ORM2, AMBP, FGG, RBP4, FGL1, MT1G, APOE, HPX \n",
      "\t   CRP, VTN, APOH, TF, C3, MT1X, TTR, MT2A, FABP1, APOB \n",
      "Negative:  C1QA, TMSB10, C1QB, TMSB4X, HLA-DRA, CD74, MALAT1, TYROBP, VIM, S100A6 \n",
      "\t   CD163, AIF1, C1QC, S100A9, LYZ, MS4A6A, FCER1G, CTSS, HLA-DPB1, HLA-DRB1 \n",
      "\t   FTL, TIMP1, HLA-DPA1, IGFBP7, S100A11, FTH1, RNASE1, SAT1, SRGN, CTSB \n",
      "PC_ 2 \n",
      "Positive:  IGFBP7, ID1, DNASE1L3, ID3, FCN3, LIFR, TM4SF1, PRSS23, GNG11, RAMP3 \n",
      "\t   ADIRF, TIMP1, MGP, C7, TIMP3, HSPG2, CCL14, IFI27, ENG, PTPRB \n",
      "\t   VWF, INMT, SPARCL1, PCAT19, SRPX, SDPR, FCN2, CRHBP, CLDN5, CTGF \n",
      "Negative:  C1QA, C1QB, FTL, HLA-DRA, C1QC, CD163, TYROBP, AIF1, CD74, S100A9 \n",
      "\t   CST3, CTSS, LYZ, FCER1G, SAT1, MS4A7, HLA-DPB1, CTSB, GPX1, HLA-DPA1 \n",
      "\t   LST1, MARCO, FTH1, MS4A6A, S100A8, HMOX1, VSIG4, FCGR3A, HLA-DRB1, CD5L \n",
      "PC_ 3 \n",
      "Positive:  TIMP1, IGFBP7, ID1, DNASE1L3, FTL, ID3, C1QA, C1QB, RNASE1, FCN3 \n",
      "\t   LIFR, PRSS23, TM4SF1, IFI27, RAMP3, SAA1, TMSB10, GNG11, HLA-DRA, MGP \n",
      "\t   ENG, VIM, ADIRF, ORM1, C7, SAA2, HSPG2, TIMP3, HP, C1QC \n",
      "Negative:  NKG7, CCL5, KLRB1, CMC1, GNLY, IGKC, JCHAIN, CCL4, MZB1, IL32 \n",
      "\t   HIST1H4C, IGHG1, GZMB, IGHM, XCL2, IGHG3, IGHG4, CCL3, FGFBP2, IL7R \n",
      "\t   IGLC2, IGHG2, KLRC1, IGLC3, IGHA1, LTB, CD52, TRDC, DERL3, XCL1 \n",
      "PC_ 4 \n",
      "Positive:  C1QB, C1QA, MARCO, C1QC, SLC40A1, CD5L, SEPP1, VCAM1, FTL, MS4A7 \n",
      "\t   CTSB, CD163, MS4A6A, HMOX1, FCGR3A, HLA-DRA, FCN3, FCN2, CRHBP, DNASE1L3 \n",
      "\t   HLA-DPB1, CLEC4G, GLUL, HLA-DPA1, CTSL, CLEC1B, CD74, OIT3, ITLN1, TIMD4 \n",
      "Negative:  S100A8, S100A9, LYZ, S100A6, S100A4, RP11-1143G9.4, S100A12, VCAN, LGALS1, FCN1 \n",
      "\t   VIM, CXCL8, S100A11, TMSB10, TYROBP, MALAT1, EREG, IL1R2, FOS, GSTP1 \n",
      "\t   CLU, CTSS, MGP, AREG, RETN, SRGN, TMSB4X, LST1, AIF1, LGALS2 \n",
      "PC_ 5 \n",
      "Positive:  FCN3, FCN2, CRHBP, DNASE1L3, CLEC4G, STAB1, CLEC1B, S100A8, S100A9, OIT3 \n",
      "\t   CTSL, LYZ, CCL14, S100A12, RP11-1143G9.4, MS4A6A, VCAN, LIFR, SPARC, FCN1 \n",
      "\t   CLDN5, CCL23, RAMP3, IGKC, LGALS1, JCHAIN, MEG3, S100A4, SEPP1, MZB1 \n",
      "Negative:  MGP, ADIRF, NKG7, SPARCL1, MALAT1, TMSB4X, VWF, VIM, CCL5, AQP1 \n",
      "\t   GNLY, CCL4, CLU, CTGF, CMC1, CPE, TMSB10, KLRB1, CD9, CCL3 \n",
      "\t   SRPX, TAGLN, IGFBP7, GSTP1, ANXA4, CLEC14A, CD24, ID3, SPP1, FXYD2 \n",
      "\n"
     ]
    }
   ],
   "source": [
    "pbmc_sct <- RunPCA(pbmc_sct)\n",
    "write.csv(Embeddings(pbmc_sct), 'sct.csv')"
   ]
  },
  {
   "cell_type": "markdown",
   "metadata": {},
   "source": [
    "# GLM-PCA"
   ]
  },
  {
   "cell_type": "code",
   "execution_count": 19,
   "metadata": {},
   "outputs": [
    {
     "name": "stderr",
     "output_type": "stream",
     "text": [
      "Sparse matrices are not supported for minibatch='none'. Coercing to dense matrix. If this exhausts memory, consider setting minibatch to 'stochastic' or 'memoized'.\n",
      "\n"
     ]
    }
   ],
   "source": [
    "pbmc_gpca <- RunGLMPCA(pbmc, L=20, \n",
    "                       X=as.matrix(model.matrix(as.formula('~factor(orig.ident)'), pbmc@meta.data)), \n",
    "                       sz=size_factor)"
   ]
  },
  {
   "cell_type": "code",
   "execution_count": 20,
   "metadata": {},
   "outputs": [],
   "source": [
    "write.csv(Embeddings(pbmc_gpca, reduction='glmpca'), 'glmpca.csv')"
   ]
  },
  {
   "cell_type": "markdown",
   "metadata": {},
   "source": [
    "# ARI & Silhouette"
   ]
  },
  {
   "cell_type": "code",
   "execution_count": 21,
   "metadata": {},
   "outputs": [],
   "source": [
    "library(mclust)\n",
    "library(cluster)"
   ]
  },
  {
   "cell_type": "code",
   "execution_count": 22,
   "metadata": {},
   "outputs": [],
   "source": [
    "pca <- read.csv('pca.csv', row.names=1)\n",
    "sct <- read.csv('sct.csv', row.names=1)\n",
    "glmpca <- read.csv('glmpca.csv', row.names=1)\n",
    "rdpca <- read.csv('rdpca.csv', header=FALSE)\n",
    "rownames(rdpca) <- rownames(pca)\n",
    "\n",
    "pbmc[['pca']] <- CreateDimReducObject(embeddings = as.matrix(pca), key = \"pc_\", assay='RNA')\n",
    "pbmc[['sct']] <- CreateDimReducObject(embeddings = as.matrix(sct), key = \"sct_\", assay='RNA')\n",
    "pbmc[['glmpca']] <- CreateDimReducObject(embeddings = as.matrix(glmpca), key = \"glmpc_\", assay='RNA')\n",
    "pbmc[['rdpca']] <- CreateDimReducObject(embeddings = as.matrix(rdpca), key = \"rdpc_\", assay='RNA')"
   ]
  },
  {
   "cell_type": "code",
   "execution_count": null,
   "metadata": {},
   "outputs": [],
   "source": [
    "celltype <- exp_data_meta$celltype\n",
    "intname <- 1:length(unique(celltype))\n",
    "names(intname) <- unique(celltype)\n",
    "for (method in c('pca', 'sct', 'glmpca', 'rdpca')){\n",
    "    obj <- FindNeighbors(pbmc, reduction=method, dims=1:20, verbose=FALSE)\n",
    "    obj <- FindClusters(obj, resolution=1, verbose=FALSE)\n",
    "    \n",
    "    print(method)\n",
    "    print(length(unique(obj$seurat_clusters)))\n",
    "    print(adjustedRandIndex(obj$seurat_clusters, celltype))\n",
    "}\n",
    "\n",
    "for (method in c('pca', 'sct', 'glmpca', 'rdpca')){\n",
    "    obj <- RunTSNE(pbmc, reduction=method, perplexity=70)\n",
    "    dist_mat <- dist(Embeddings(obj, reduction='tsne'))\n",
    "    silscore <- silhouette(as.vector(intname[celltype]), dist_mat) \n",
    "    \n",
    "    print(method)\n",
    "    print(summary(silscore)$avg.width)\n",
    "\n",
    "}"
   ]
  }
 ],
 "metadata": {
  "kernelspec": {
   "display_name": "R",
   "language": "R",
   "name": "ir"
  },
  "language_info": {
   "codemirror_mode": "r",
   "file_extension": ".r",
   "mimetype": "text/x-r-source",
   "name": "R",
   "pygments_lexer": "r",
   "version": "4.0.3"
  }
 },
 "nbformat": 4,
 "nbformat_minor": 4
}
