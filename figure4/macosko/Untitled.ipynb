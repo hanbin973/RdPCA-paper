{
 "cells": [
  {
   "cell_type": "code",
   "execution_count": 1,
   "metadata": {},
   "outputs": [
    {
     "name": "stderr",
     "output_type": "stream",
     "text": [
      "Package 'mclust' version 5.4.7\n",
      "Type 'citation(\"mclust\")' for citing this R package in publications.\n",
      "\n",
      "Attaching SeuratObject\n",
      "\n"
     ]
    }
   ],
   "source": [
    "library(mclust)\n",
    "library(cluster)\n",
    "library(Seurat)\n",
    "library(SeuratWrappers)\n",
    "library(Matrix)\n",
    "library(glmGamPoi)\n",
    "library(sctransform)"
   ]
  },
  {
   "cell_type": "code",
   "execution_count": 2,
   "metadata": {},
   "outputs": [
    {
     "name": "stderr",
     "output_type": "stream",
     "text": [
      "Centering and scaling data matrix\n",
      "\n"
     ]
    }
   ],
   "source": [
    "exp_data <- readMM('../../data/macosko/matrix.mtx')\n",
    "exp_data_meta <- read.csv('../../data/macosko/meta.csv', row.names=1)\n",
    "colnames(exp_data) <- rownames(exp_data_meta)\n",
    "rownames(exp_data) <- read.csv('../../data/macosko/features.tsv')$x\n",
    "pbmc <- CreateSeuratObject(exp_data)\n",
    "pbmc <- NormalizeData(pbmc)\n",
    "pbmc <- FindVariableFeatures(pbmc, selection.method='vst', nfeatures=2000)\n",
    "pbmc <- ScaleData(pbmc, features = rownames(pbmc))"
   ]
  },
  {
   "cell_type": "code",
   "execution_count": 4,
   "metadata": {},
   "outputs": [],
   "source": [
    "pca <- read.csv('pca.csv', row.names=1)\n",
    "sct <- read.csv('sct.csv', row.names=1)\n",
    "#glmpca <- read.csv('glmpca.csv', row.names=1)\n",
    "rdpca <- read.csv('rdpca.csv', header=FALSE)\n",
    "rownames(rdpca) <- rownames(pca)\n",
    "\n",
    "pbmc[['pca']] <- CreateDimReducObject(embeddings = as.matrix(pca), key = \"pc_\", assay='RNA')\n",
    "pbmc[['sct']] <- CreateDimReducObject(embeddings = as.matrix(sct), key = \"sct_\", assay='RNA')\n",
    "#pbmc[['glmpca']] <- CreateDimReducObject(embeddings = as.matrix(glmpca), key = \"glmpc_\", assay='RNA')\n",
    "pbmc[['rdpca']] <- CreateDimReducObject(embeddings = as.matrix(rdpca), key = \"rdpc_\", assay='RNA')"
   ]
  },
  {
   "cell_type": "code",
   "execution_count": 5,
   "metadata": {},
   "outputs": [
    {
     "name": "stdout",
     "output_type": "stream",
     "text": [
      "[1] \"pca\"\n",
      "[1] 33\n",
      "[1] 0.1543069\n",
      "[1] \"sct\"\n",
      "[1] 34\n",
      "[1] 0.1073375\n",
      "[1] \"rdpca\"\n",
      "[1] 35\n",
      "[1] 0.5166639\n"
     ]
    }
   ],
   "source": [
    "celltype <- exp_data_meta$cell_type1\n",
    "intname <- 1:length(unique(celltype))\n",
    "names(intname) <- unique(celltype)\n",
    "for (method in c('pca', 'sct', 'rdpca')){\n",
    "    obj <- FindNeighbors(pbmc, reduction=method, dims=1:20, verbose=FALSE)\n",
    "    obj <- FindClusters(obj, resolution=1, verbose=FALSE)\n",
    "    \n",
    "    print(method)\n",
    "    print(length(unique(obj$seurat_clusters)))\n",
    "    print(adjustedRandIndex(obj$seurat_clusters, celltype))\n",
    "}\n",
    "\n"
   ]
  },
  {
   "cell_type": "code",
   "execution_count": 6,
   "metadata": {},
   "outputs": [
    {
     "name": "stdout",
     "output_type": "stream",
     "text": [
      "[1] \"pca\"\n",
      "[1] 21\n",
      "[1] 0.332073\n",
      "[1] \"sct\"\n",
      "[1] 22\n",
      "[1] 0.2262758\n",
      "[1] \"rdpca\"\n",
      "[1] 26\n",
      "[1] 0.8691848\n"
     ]
    }
   ],
   "source": [
    "celltype <- exp_data_meta$cell_type1\n",
    "intname <- 1:length(unique(celltype))\n",
    "names(intname) <- unique(celltype)\n",
    "for (method in c('pca', 'sct', 'rdpca')){\n",
    "    obj <- FindNeighbors(pbmc, reduction=method, dims=1:20, verbose=FALSE)\n",
    "    obj <- FindClusters(obj, resolution=0.5, verbose=FALSE)\n",
    "    \n",
    "    print(method)\n",
    "    print(length(unique(obj$seurat_clusters)))\n",
    "    print(adjustedRandIndex(obj$seurat_clusters, celltype))\n",
    "}\n",
    "\n"
   ]
  },
  {
   "cell_type": "code",
   "execution_count": 7,
   "metadata": {},
   "outputs": [
    {
     "name": "stdout",
     "output_type": "stream",
     "text": [
      "[1] \"pca\"\n",
      "[1] 15\n",
      "[1] 0.8312101\n",
      "[1] \"sct\"\n",
      "[1] 18\n",
      "[1] 0.3057216\n",
      "[1] \"rdpca\"\n",
      "[1] 22\n",
      "[1] 0.8734441\n"
     ]
    }
   ],
   "source": [
    "celltype <- exp_data_meta$cell_type1\n",
    "intname <- 1:length(unique(celltype))\n",
    "names(intname) <- unique(celltype)\n",
    "for (method in c('pca', 'sct', 'rdpca')){\n",
    "    obj <- FindNeighbors(pbmc, reduction=method, dims=1:20, verbose=FALSE)\n",
    "    obj <- FindClusters(obj, resolution=0.3, verbose=FALSE)\n",
    "    \n",
    "    print(method)\n",
    "    print(length(unique(obj$seurat_clusters)))\n",
    "    print(adjustedRandIndex(obj$seurat_clusters, celltype))\n",
    "}\n",
    "\n"
   ]
  },
  {
   "cell_type": "code",
   "execution_count": 8,
   "metadata": {},
   "outputs": [
    {
     "name": "stdout",
     "output_type": "stream",
     "text": [
      "[1] \"pca\"\n",
      "[1] 11\n",
      "[1] 0.8780402\n",
      "[1] \"sct\"\n",
      "[1] 12\n",
      "[1] 0.5551434\n",
      "[1] \"rdpca\"\n",
      "[1] 16\n",
      "[1] 0.8793417\n"
     ]
    }
   ],
   "source": [
    "celltype <- exp_data_meta$cell_type1\n",
    "intname <- 1:length(unique(celltype))\n",
    "names(intname) <- unique(celltype)\n",
    "for (method in c('pca', 'sct', 'rdpca')){\n",
    "    obj <- FindNeighbors(pbmc, reduction=method, dims=1:20, verbose=FALSE)\n",
    "    obj <- FindClusters(obj, resolution=0.1, verbose=FALSE)\n",
    "    \n",
    "    print(method)\n",
    "    print(length(unique(obj$seurat_clusters)))\n",
    "    print(adjustedRandIndex(obj$seurat_clusters, celltype))\n",
    "}\n",
    "\n"
   ]
  }
 ],
 "metadata": {
  "kernelspec": {
   "display_name": "R",
   "language": "R",
   "name": "ir"
  },
  "language_info": {
   "codemirror_mode": "r",
   "file_extension": ".r",
   "mimetype": "text/x-r-source",
   "name": "R",
   "pygments_lexer": "r",
   "version": "4.0.3"
  }
 },
 "nbformat": 4,
 "nbformat_minor": 4
}
