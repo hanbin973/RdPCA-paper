{
 "cells": [
  {
   "cell_type": "code",
   "execution_count": 1,
   "metadata": {},
   "outputs": [
    {
     "name": "stderr",
     "output_type": "stream",
     "text": [
      "Attaching SeuratObject\n",
      "\n"
     ]
    }
   ],
   "source": [
    "library(Seurat)\n",
    "library(Matrix)\n",
    "library(SeuratWrappers)\n",
    "library(glmGamPoi)\n",
    "library(sctransform)"
   ]
  },
  {
   "cell_type": "code",
   "execution_count": 2,
   "metadata": {},
   "outputs": [
    {
     "name": "stderr",
     "output_type": "stream",
     "text": [
      "Warning message:\n",
      "“The following features are not present in the object: MLF1IP, not searching for symbol synonyms”\n",
      "Regressing out S.Score, G2M.Score\n",
      "\n",
      "Centering and scaling data matrix\n",
      "\n"
     ]
    }
   ],
   "source": [
    "expr <- readMM('../data/pbmc_covid19/matrix.mtx')\n",
    "rownames(expr) <- read.csv('../data/pbmc_covid19/features.tsv')$x\n",
    "colnames(expr) <- read.csv('../data/pbmc_covid19/barcodes.tsv')$x\n",
    "pbmc <- CreateSeuratObject(expr)\n",
    "pbmc <- NormalizeData(pbmc)\n",
    "pbmc <- FindVariableFeatures(pbmc, selection.method='vst', nfeatures=3000)\n",
    "s.genes <- cc.genes$s.genes\n",
    "g2m.genes <- cc.genes$g2m.genes\n",
    "pbmc <- CellCycleScoring(pbmc, s.features = s.genes, g2m.features = g2m.genes, set.ident = TRUE)\n",
    "pbmc <- ScaleData(pbmc, vars.to.regress = c(\"S.Score\", \"G2M.Score\"), features = rownames(pbmc))\n",
    "#pbmc <- ScaleData(pbmc, features = rownames(pbmc))"
   ]
  },
  {
   "cell_type": "code",
   "execution_count": 28,
   "metadata": {},
   "outputs": [],
   "source": [
    "pbmc$Donor <- read.csv('../data/pbmc_covid19/meta.csv', row.names=1)$Donor\n",
    "pbmc$celltype <- read.csv('../data/pbmc_covid19/meta.csv', row.names=1)$cell.type.fine"
   ]
  },
  {
   "cell_type": "code",
   "execution_count": 27,
   "metadata": {},
   "outputs": [
    {
     "data": {
      "text/html": [
       "<style>\n",
       ".list-inline {list-style: none; margin:0; padding: 0}\n",
       ".list-inline>li {display: inline-block}\n",
       ".list-inline>li:not(:last-child)::after {content: \"\\00b7\"; padding: 0 .5ex}\n",
       "</style>\n",
       "<ol class=list-inline><li>'orig.ident'</li><li>'nCount_RNA'</li><li>'nFeature_RNA'</li><li>'percent.mt'</li><li>'percent.rps'</li><li>'percent.rpl'</li><li>'percent.rrna'</li><li>'nCount_SCT'</li><li>'nFeature_SCT'</li><li>'SCT_snn_res.1'</li><li>'seurat_clusters'</li><li>'singler'</li><li>'Admission.level'</li><li>'cell.type.fine'</li><li>'cell.type.coarse'</li><li>'cell.type'</li><li>'IFN1'</li><li>'HLA1'</li><li>'Donor.orig'</li><li>'Donor.full'</li><li>'Donor'</li><li>'Status'</li><li>'Sex'</li><li>'DPS'</li><li>'DTF'</li><li>'Admission'</li><li>'Ventilated'</li><li>'S.Score'</li><li>'G2M.Score'</li><li>'Phase'</li><li>'old.ident'</li></ol>\n"
      ],
      "text/latex": [
       "\\begin{enumerate*}\n",
       "\\item 'orig.ident'\n",
       "\\item 'nCount\\_RNA'\n",
       "\\item 'nFeature\\_RNA'\n",
       "\\item 'percent.mt'\n",
       "\\item 'percent.rps'\n",
       "\\item 'percent.rpl'\n",
       "\\item 'percent.rrna'\n",
       "\\item 'nCount\\_SCT'\n",
       "\\item 'nFeature\\_SCT'\n",
       "\\item 'SCT\\_snn\\_res.1'\n",
       "\\item 'seurat\\_clusters'\n",
       "\\item 'singler'\n",
       "\\item 'Admission.level'\n",
       "\\item 'cell.type.fine'\n",
       "\\item 'cell.type.coarse'\n",
       "\\item 'cell.type'\n",
       "\\item 'IFN1'\n",
       "\\item 'HLA1'\n",
       "\\item 'Donor.orig'\n",
       "\\item 'Donor.full'\n",
       "\\item 'Donor'\n",
       "\\item 'Status'\n",
       "\\item 'Sex'\n",
       "\\item 'DPS'\n",
       "\\item 'DTF'\n",
       "\\item 'Admission'\n",
       "\\item 'Ventilated'\n",
       "\\item 'S.Score'\n",
       "\\item 'G2M.Score'\n",
       "\\item 'Phase'\n",
       "\\item 'old.ident'\n",
       "\\end{enumerate*}\n"
      ],
      "text/markdown": [
       "1. 'orig.ident'\n",
       "2. 'nCount_RNA'\n",
       "3. 'nFeature_RNA'\n",
       "4. 'percent.mt'\n",
       "5. 'percent.rps'\n",
       "6. 'percent.rpl'\n",
       "7. 'percent.rrna'\n",
       "8. 'nCount_SCT'\n",
       "9. 'nFeature_SCT'\n",
       "10. 'SCT_snn_res.1'\n",
       "11. 'seurat_clusters'\n",
       "12. 'singler'\n",
       "13. 'Admission.level'\n",
       "14. 'cell.type.fine'\n",
       "15. 'cell.type.coarse'\n",
       "16. 'cell.type'\n",
       "17. 'IFN1'\n",
       "18. 'HLA1'\n",
       "19. 'Donor.orig'\n",
       "20. 'Donor.full'\n",
       "21. 'Donor'\n",
       "22. 'Status'\n",
       "23. 'Sex'\n",
       "24. 'DPS'\n",
       "25. 'DTF'\n",
       "26. 'Admission'\n",
       "27. 'Ventilated'\n",
       "28. 'S.Score'\n",
       "29. 'G2M.Score'\n",
       "30. 'Phase'\n",
       "31. 'old.ident'\n",
       "\n",
       "\n"
      ],
      "text/plain": [
       " [1] \"orig.ident\"       \"nCount_RNA\"       \"nFeature_RNA\"     \"percent.mt\"      \n",
       " [5] \"percent.rps\"      \"percent.rpl\"      \"percent.rrna\"     \"nCount_SCT\"      \n",
       " [9] \"nFeature_SCT\"     \"SCT_snn_res.1\"    \"seurat_clusters\"  \"singler\"         \n",
       "[13] \"Admission.level\"  \"cell.type.fine\"   \"cell.type.coarse\" \"cell.type\"       \n",
       "[17] \"IFN1\"             \"HLA1\"             \"Donor.orig\"       \"Donor.full\"      \n",
       "[21] \"Donor\"            \"Status\"           \"Sex\"              \"DPS\"             \n",
       "[25] \"DTF\"              \"Admission\"        \"Ventilated\"       \"S.Score\"         \n",
       "[29] \"G2M.Score\"        \"Phase\"            \"old.ident\"       "
      ]
     },
     "metadata": {},
     "output_type": "display_data"
    }
   ],
   "source": [
    "colnames(read.csv('../data/pbmc_covid19/meta.csv', row.names=1))"
   ]
  },
  {
   "cell_type": "markdown",
   "metadata": {},
   "source": [
    "# PCA"
   ]
  },
  {
   "cell_type": "code",
   "execution_count": 3,
   "metadata": {
    "scrolled": true
   },
   "outputs": [
    {
     "name": "stderr",
     "output_type": "stream",
     "text": [
      "PC_ 1 \n",
      "Positive:  SYNE2, TRBC2, SYNE1, GNLY, CCL5, PRF1, FGFBP2, GZMH, GZMA, GZMB \n",
      "\t   IL2RB, IL7R, MYBL1, CD3D, SPTBN1, TRAC, SPON2, TCF7, ABLIM1, CD8A \n",
      "\t   IL32, CD3G, KLRB1, TRGC2, PRSS23, LTB, TIGIT, BCL2, TRIB2, KLRF1 \n",
      "Negative:  FCN1, LYZ, NCF2, AIF1, CYBB, CST3, S100A9, MNDA, CTSS, VCAN \n",
      "\t   FGL2, SERPINA1, MPEG1, TNFAIP2, S100A8, PSAP, LST1, KLF4, FOS, CFP \n",
      "\t   GRN, TYMP, TGFBI, LILRB2, COTL1, CD14, TKT, DUSP6, CPVL, KCTD12 \n",
      "PC_ 2 \n",
      "Positive:  MS4A1, CD79A, IGHM, BANK1, PAX5, RALGPS2, HLA-DRA, CD22, CD74, FAM129C \n",
      "\t   CD79B, IGHD, FCRL1, SWAP70, CD19, FCRLA, TCF4, HLA-DQA1, HLA-DRB1, LINC00926 \n",
      "\t   WDFY4, HLA-DOA, SPIB, P2RX5, HLA-DPB1, IGLC3, HLA-DPA1, TCL1A, FCRL2, BCL11A \n",
      "Negative:  PRF1, GNLY, CCL5, FCGR3A, SYNE1, FGFBP2, SYNE2, GZMA, GZMH, GZMB \n",
      "\t   IL2RB, SPON2, ANXA1, CX3CR1, SRGN, LCP1, TYROBP, MYBL1, FCGR3B, S100A4 \n",
      "\t   PRSS23, AOAH, KLRF1, SLAMF7, KLRB1, SAMHD1, TNFRSF1B, NCAM1, SH2D1B, TRDC \n",
      "PC_ 3 \n",
      "Positive:  IL7R, S100A8, VCAN, CD14, S100A12, TCF7, S100A9, SELL, MS4A6A, IL6R \n",
      "\t   CSF3R, CD36, LYZ, IL6ST, LEF1, LDHB, RCAN3, TRAC, DGKA, PLBD1 \n",
      "\t   CD163, ALDH2, TRABD2A, AMICA1, PADI4, ACTN1, CCR7, MNDA, GPX1, PTAFR \n",
      "Negative:  FCGR3A, CDKN1C, FCGR3B, AC104809.4, TCF7L2, SIGLEC10, MS4A7, RP11-290F20.3, MTSS1, RHOC \n",
      "\t   LYN, CSF1R, CKB, VMO1, PIK3AP1, CX3CR1, PRF1, LILRB1, IFITM3, MYOF \n",
      "\t   GZMB, GNLY, FMNL2, FGFBP2, NEURL1, WARS, SCRN1, EMR2, SPON2, FCER1G \n",
      "PC_ 4 \n",
      "Positive:  IL7R, TCF7, LTB, LEF1, CDKN1C, CCR7, RCAN3, TRAC, PAG1, TRABD2A \n",
      "\t   DGKA, MAL, NAP1L1, CAMK4, LDHB, AC104809.4, TBC1D4, MS4A7, TCF7L2, NELL2 \n",
      "\t   RP11-290F20.3, TRAT1, PABPC1, INPP4B, NOSIP, CD3D, CSF1R, CD28, IL6ST, NFKBIZ \n",
      "Negative:  PRF1, GZMB, GNLY, FGFBP2, SPON2, SYNE1, IL2RB, GZMH, GZMA, CCL5 \n",
      "\t   KLRF1, NCAM1, SYK, SLAMF7, PRSS23, MYBL1, SRGN, CX3CR1, TRDC, TYROBP \n",
      "\t   AOAH, SH2D1B, HSPA5, HIPK2, LAT2, PTPRE, LCP1, IL18RAP, DTHD1, GFOD1 \n",
      "PC_ 5 \n",
      "Positive:  SDPR, TUBB1, PPBP, PF4, PRKAR2B, ITGB3, GNG11, CLU, C2orf88, HIST1H2AC \n",
      "\t   ITGA2B, ACRBP, F13A1, NRGN, SPARC, RGS18, MYLK, C6orf25, PTGS1, MFAP3L \n",
      "\t   TAL1, CTDSPL, CTTN, SH3BGRL2, DNM3, PF4V1, STON2, LTBP1, TRIM58, MMD \n",
      "Negative:  S100A8, S100A9, VCAN, CD14, S100A12, LYZ, FCN1, FOS, CSF3R, MNDA \n",
      "\t   NCF1, PLBD1, CYP1B1, JUN, FOSB, MS4A1, CD93, FPR1, MS4A6A, MEGF9 \n",
      "\t   LRRK2, NCF2, SIRPA, CD163, LRP1, HLA-DRA, BST1, TNFAIP2, MARC1, HLA-DRB1 \n",
      "\n"
     ]
    }
   ],
   "source": [
    "pbmc_pca <- RunPCA(pbmc)"
   ]
  },
  {
   "cell_type": "code",
   "execution_count": 4,
   "metadata": {},
   "outputs": [],
   "source": [
    "write.csv(Embeddings(pbmc_pca), 'pca.csv')"
   ]
  },
  {
   "cell_type": "markdown",
   "metadata": {},
   "source": [
    "# SCTransform"
   ]
  },
  {
   "cell_type": "code",
   "execution_count": 6,
   "metadata": {
    "scrolled": true
   },
   "outputs": [
    {
     "name": "stderr",
     "output_type": "stream",
     "text": [
      "Calculating cell attributes from input UMI matrix: log_umi\n",
      "\n",
      "Variance stabilizing transformation of count matrix of size 23921 by 16627\n",
      "\n",
      "Model formula is y ~ (log_umi) : Donor + Donor + 0\n",
      "\n",
      "Get Negative Binomial regression parameters per gene\n",
      "\n",
      "Using 2000 genes, 5000 cells\n",
      "\n"
     ]
    },
    {
     "name": "stdout",
     "output_type": "stream",
     "text": [
      "  |======================================================================| 100%\n"
     ]
    },
    {
     "name": "stderr",
     "output_type": "stream",
     "text": [
      "Found 213 outliers - those will be ignored in fitting/regularization step\n",
      "\n",
      "\n",
      "Some genes not detected in batch H1 -- assuming a low mean.\n",
      "\n",
      "Some genes not detected in batch H2 -- assuming a low mean.\n",
      "\n",
      "Some genes not detected in batch H3 -- assuming a low mean.\n",
      "\n",
      "Some genes not detected in batch H4 -- assuming a low mean.\n",
      "\n",
      "Some genes not detected in batch H5 -- assuming a low mean.\n",
      "\n",
      "Some genes not detected in batch H6 -- assuming a low mean.\n",
      "\n",
      "Second step: Get residuals using fitted parameters for 23921 genes\n",
      "\n"
     ]
    },
    {
     "name": "stdout",
     "output_type": "stream",
     "text": [
      "  |======================================================================| 100%\n"
     ]
    },
    {
     "name": "stderr",
     "output_type": "stream",
     "text": [
      "Computing corrected count matrix for 23921 genes\n",
      "\n"
     ]
    },
    {
     "name": "stdout",
     "output_type": "stream",
     "text": [
      "  |======================================================================| 100%\n"
     ]
    },
    {
     "name": "stderr",
     "output_type": "stream",
     "text": [
      "Calculating gene attributes\n",
      "\n",
      "Wall clock passed: Time difference of 4.151307 mins\n",
      "\n",
      "Determine variable features\n",
      "\n",
      "Place corrected count matrix in counts slot\n",
      "\n",
      "Regressing out S.Score, G2M.Score\n",
      "\n",
      "Centering data matrix\n",
      "\n",
      "Set default assay to SCT\n",
      "\n"
     ]
    }
   ],
   "source": [
    "pbmc_sct <- SCTransform(pbmc, vars.to.regress=c(\"S.Score\", \"G2M.Score\"), method='glmGamPoi', batch='Donor')"
   ]
  },
  {
   "cell_type": "code",
   "execution_count": 7,
   "metadata": {
    "scrolled": true
   },
   "outputs": [
    {
     "name": "stderr",
     "output_type": "stream",
     "text": [
      "PC_ 1 \n",
      "Positive:  S100A9, LYZ, S100A8, VCAN, PSAP, MKI67, RP11-84C10.2, RP11-597D13.9, CHST13, RNASE3 \n",
      "\t   MFSD7, NEBL, RP11-293M10.5, LINC00968, IL31RA, SERINC2, HTRA1, CMTM2, KCNK13, TUBB1 \n",
      "\t   SDPR, GPR84, OPLAH, RP11-1002K11.1, AC008984.2, RN7SL138P, VSIG4, RNASE1, RP11-452C13.1, CLEC1A \n",
      "Negative:  MS4A1, IGHM, IGLC3, IGHG1, IGLC2, IGJ, IGHA1, IGHG2, IGHG3, IGHA2 \n",
      "\t   HBB, HBA2, IGHG4, IGHV3-30, HBA1, IGLV2-8, IGLV2-14, HBD, UGT8, ZNF205-AS1 \n",
      "\t   AC067945.4, CXXC4, ZBED2, RP1-8B1.4, IGKV3D-15, IGKV3-11, IGKV1D-39, RP11-415F23.3, A2M-AS1, RP11-685M7.3 \n",
      "PC_ 2 \n",
      "Positive:  PSAP, HBB, RP3-467K16.4, HBA2, HBA1, AC067945.4, HBD, TUBB1, A2M-AS1, ST6GALNAC1 \n",
      "\t   LINC00869, PF4, STRIP2, SDPR, ZBTB20-AS1, MLF1, EPHX4, C8G, AL109767.1, CCL4L2 \n",
      "\t   IGSF9B, RP11-47I22.3, NRXN2, ZDHHC11, IGFBP6, UTS2, DCHS1, LEF1-AS1, THEM5, ARHGEF4 \n",
      "Negative:  IGHM, MS4A1, IGLC3, IGLC2, IGJ, IGHG1, IGHA1, IGHG3, IGHG2, S100A9 \n",
      "\t   IGHA2, S100A8, VCAN, IGHG4, LYZ, IGHV3-30, IGLV2-8, IGLV2-14, IGLV2-18, CORO2B \n",
      "\t   UGT8, IGKV3D-15, IL6, IGHV4-61, LINC01013, IGKV3-11, IGHJ3, TXNDC5, AC012065.7, DNAJC5B \n",
      "PC_ 3 \n",
      "Positive:  PSAP, IGJ, IGHA2, IGHA1, IGLC3, IGLC2, LYZ, IGHG4, IGHG1, MKI67 \n",
      "\t   IGLV2-14, TXNDC5, JSRP1, IGLV2-18, EPHA2, CAV1, TP63, RP4-647C14.2, TIFAB, IGHV4-61 \n",
      "\t   CTD-2135D7.5, PLVAP, IGLL1, IGKV3D-15, FAM149A, IGKV3-11, IGHG2, SIGLEC11, XCR1, MRC1L1 \n",
      "Negative:  HBB, HBA2, HBA1, HBD, S100A8, IGHM, S100A9, MS4A1, SELENBP1, CA1 \n",
      "\t   RUNDC3A, OR2W3, CCDC176, VCAN, ARSJ, SPTA1, ZNF534, DNAJC6, CCDC168, AC097467.2 \n",
      "\t   RYR2, ERBB4, ADAM32, MOCOS, CTC-448F2.4, PCDH17, RP11-214O1.3, HAMP, AC090587.2, CTC-340A15.2 \n",
      "PC_ 4 \n",
      "Positive:  IGJ, IGHA1, IGHA2, IGLC3, IGLC2, PSAP, IGHG1, HBB, IGHG2, IGHG3 \n",
      "\t   IGHG4, HBA2, HBA1, HBD, TXNDC5, JSRP1, IGLV2-8, CAV1, IGLV2-14, MKI67 \n",
      "\t   IGLV2-18, IGKV3D-15, IGLL1, TP63, IGHV4-61, AC007386.2, EPHA2, FAM149A, IGKV3-11, ALDH1L2 \n",
      "Negative:  IGHM, MS4A1, S100A8, S100A9, VCAN, CORO2B, IL6, LINC01013, SGCE, U62631.5 \n",
      "\t   C20orf195, STEAP1B, RP11-713C5.1, RP11-112J3.16, SOBP, AC007952.5, SUGCT, RP11-175K6.1, DPEP3, GLI1 \n",
      "\t   ZFHX4, AC145212.1, VAV3-AS1, MYBPC2, OSMR, UGT8, ZNF771, GALNTL6, RP11-624C23.1, AC007880.1 \n",
      "PC_ 5 \n",
      "Positive:  S100A8, S100A9, VCAN, IGHA1, IGHA2, IGJ, IGLC2, IGHG1, CMTM2, IGLC3 \n",
      "\t   IGHG2, IGHG3, IGHG4, ORM1, CAV1, JSRP1, SERPINB10, CTD-2002H8.2, RP1-1J6.2, DEFA1B \n",
      "\t   CRB1, C6orf132, ALPL, CCDC19, GGTLC2, CCL4L2, IGLL1, IGLV2-14, VGLL3, TRPM6 \n",
      "Negative:  PSAP, LYZ, IGHM, HBB, MS4A1, HBA2, HBA1, HBD, CTD-2135D7.5, IGFBP6 \n",
      "\t   MKI67, TRNP1, VSIG4, ACY3, CTC-1337H24.1, RN7SL138P, PGBD5, MRC1L1, WDR65, RP11-452C13.1 \n",
      "\t   OLFML2B, SIGLEC11, RP11-299H21.1, TIFAB, TSKS, TMEM255B, PLVAP, TMEM51, LDHD, FIBCD1 \n",
      "\n"
     ]
    }
   ],
   "source": [
    "pbmc_sct <- RunPCA(pbmc_sct)\n",
    "write.csv(Embeddings(pbmc_sct), 'sct.csv')"
   ]
  },
  {
   "cell_type": "markdown",
   "metadata": {},
   "source": [
    "# GLM-PCA"
   ]
  },
  {
   "cell_type": "code",
   "execution_count": 13,
   "metadata": {},
   "outputs": [
    {
     "name": "stderr",
     "output_type": "stream",
     "text": [
      "Sparse matrices are not supported for minibatch='none'. Coercing to dense matrix. If this exhausts memory, consider setting minibatch to 'stochastic' or 'memoized'.\n",
      "\n"
     ]
    }
   ],
   "source": [
    "pbmc_gpca <- RunGLMPCA(pbmc, L=40, \n",
    "                       X=model.matrix(as.formula('~factor(Donor)+S.Score+G2M.Score'), data=pbmc@meta.data), sz=pbmc@meta.data$nCount_RNA/mean(pbmc@meta.data$nCount_RNA))"
   ]
  },
  {
   "cell_type": "code",
   "execution_count": 14,
   "metadata": {},
   "outputs": [],
   "source": [
    "write.csv(Embeddings(pbmc_gpca, reduction='glmpca'), 'glmpca.csv')"
   ]
  },
  {
   "cell_type": "markdown",
   "metadata": {},
   "source": [
    "# ARI & Silhouette"
   ]
  },
  {
   "cell_type": "code",
   "execution_count": 17,
   "metadata": {},
   "outputs": [
    {
     "name": "stderr",
     "output_type": "stream",
     "text": [
      "Package 'mclust' version 5.4.7\n",
      "Type 'citation(\"mclust\")' for citing this R package in publications.\n",
      "\n"
     ]
    }
   ],
   "source": [
    "library(mclust)\n",
    "library(cluster)"
   ]
  },
  {
   "cell_type": "code",
   "execution_count": 29,
   "metadata": {},
   "outputs": [],
   "source": [
    "pca <- read.csv('pca.csv', row.names=1)\n",
    "sct <- read.csv('sct.csv', row.names=1)\n",
    "glmpca <- read.csv('glmpca.csv', row.names=1)\n",
    "rdpca <- read.csv('rdpca.csv', header=FALSE)\n",
    "rownames(rdpca) <- rownames(pca)\n",
    "\n",
    "pbmc[['pca']] <- CreateDimReducObject(embeddings = as.matrix(pca), key = \"pc_\", assay='RNA')\n",
    "pbmc[['sct']] <- CreateDimReducObject(embeddings = as.matrix(sct), key = \"sct_\", assay='RNA')\n",
    "pbmc[['glmpca']] <- CreateDimReducObject(embeddings = as.matrix(glmpca), key = \"glmpc_\", assay='RNA')\n",
    "pbmc[['rdpca']] <- CreateDimReducObject(embeddings = as.matrix(rdpca), key = \"rdpc_\", assay='RNA')"
   ]
  },
  {
   "cell_type": "code",
   "execution_count": 30,
   "metadata": {},
   "outputs": [],
   "source": [
    "celltype <- pbmc$celltype\n",
    "intname <- 1:length(unique(celltype))\n",
    "names(intname) <- unique(celltype)\n",
    "\n",
    "ress <- c(0.4, 0.5, 0.9, 1.5, 2)\n",
    "methods <- c('pca', 'sct', 'glmpca', 'rdpca')\n",
    "aris <- data.frame(matrix(1:(length(ress)*length(methods)), nrow=length(methods)))\n",
    "rownames(aris) <- methods\n",
    "colnames(aris) <- ress\n",
    "for (res in ress){\n",
    "    for (method in methods){\n",
    "        obj <- FindNeighbors(pbmc, reduction=method, dims=1:40, verbose=FALSE)\n",
    "        obj <- FindClusters(obj, resolution=res, verbose=FALSE)\n",
    "        \n",
    "        aris[method, as.character(res)] <- adjustedRandIndex(obj$seurat_clusters, celltype)\n",
    "    }\n",
    "}"
   ]
  },
  {
   "cell_type": "code",
   "execution_count": 32,
   "metadata": {},
   "outputs": [],
   "source": [
    "sils <- data.frame(matrix(1:length(methods), nrow=length(methods)))\n",
    "rownames(sils) <- methods\n",
    "colnames(sils) <- c('Silhouette')\n",
    "for (method in methods){\n",
    "    obj <- RunTSNE(pbmc, reduction=method, perplexity=70, dims=1:40)\n",
    "    dist_mat <- dist(Embeddings(obj, reduction='tsne'))\n",
    "    silscore <- silhouette(as.vector(intname[celltype]), dist_mat) \n",
    "    \n",
    "    \n",
    "    sils[method, 'Silhouette']<- (summary(silscore)$avg.width)\n",
    "\n",
    "}"
   ]
  },
  {
   "cell_type": "code",
   "execution_count": 38,
   "metadata": {},
   "outputs": [
    {
     "data": {
      "text/html": [
       "<table class=\"dataframe\">\n",
       "<caption>A data.frame: 4 × 6</caption>\n",
       "<thead>\n",
       "\t<tr><th></th><th scope=col>0.4</th><th scope=col>0.5</th><th scope=col>0.9</th><th scope=col>1.5</th><th scope=col>2</th><th scope=col>sils[methods, \"Silhouette\"]</th></tr>\n",
       "\t<tr><th></th><th scope=col>&lt;dbl&gt;</th><th scope=col>&lt;dbl&gt;</th><th scope=col>&lt;dbl&gt;</th><th scope=col>&lt;dbl&gt;</th><th scope=col>&lt;dbl&gt;</th><th scope=col>&lt;dbl&gt;</th></tr>\n",
       "</thead>\n",
       "<tbody>\n",
       "\t<tr><th scope=row>pca</th><td>0.724705018</td><td>0.727061666</td><td>0.529866835</td><td> 0.5057924076</td><td> 0.4240513493</td><td> 0.2602003</td></tr>\n",
       "\t<tr><th scope=row>sct</th><td>0.242088160</td><td>0.188026728</td><td>0.172572910</td><td> 0.1206157295</td><td> 0.1041082507</td><td>-0.1196212</td></tr>\n",
       "\t<tr><th scope=row>glmpca</th><td>0.001064068</td><td>0.003519099</td><td>0.003299366</td><td>-0.0005489744</td><td>-0.0006698051</td><td>-0.1198604</td></tr>\n",
       "\t<tr><th scope=row>rdpca</th><td>0.445276843</td><td>0.439340136</td><td>0.362456632</td><td> 0.3240927292</td><td> 0.2915516407</td><td> 0.1537603</td></tr>\n",
       "</tbody>\n",
       "</table>\n"
      ],
      "text/latex": [
       "A data.frame: 4 × 6\n",
       "\\begin{tabular}{r|llllll}\n",
       "  & 0.4 & 0.5 & 0.9 & 1.5 & 2 & sils{[}methods, \"Silhouette\"{]}\\\\\n",
       "  & <dbl> & <dbl> & <dbl> & <dbl> & <dbl> & <dbl>\\\\\n",
       "\\hline\n",
       "\tpca & 0.724705018 & 0.727061666 & 0.529866835 &  0.5057924076 &  0.4240513493 &  0.2602003\\\\\n",
       "\tsct & 0.242088160 & 0.188026728 & 0.172572910 &  0.1206157295 &  0.1041082507 & -0.1196212\\\\\n",
       "\tglmpca & 0.001064068 & 0.003519099 & 0.003299366 & -0.0005489744 & -0.0006698051 & -0.1198604\\\\\n",
       "\trdpca & 0.445276843 & 0.439340136 & 0.362456632 &  0.3240927292 &  0.2915516407 &  0.1537603\\\\\n",
       "\\end{tabular}\n"
      ],
      "text/markdown": [
       "\n",
       "A data.frame: 4 × 6\n",
       "\n",
       "| <!--/--> | 0.4 &lt;dbl&gt; | 0.5 &lt;dbl&gt; | 0.9 &lt;dbl&gt; | 1.5 &lt;dbl&gt; | 2 &lt;dbl&gt; | sils[methods, \"Silhouette\"] &lt;dbl&gt; |\n",
       "|---|---|---|---|---|---|---|\n",
       "| pca | 0.724705018 | 0.727061666 | 0.529866835 |  0.5057924076 |  0.4240513493 |  0.2602003 |\n",
       "| sct | 0.242088160 | 0.188026728 | 0.172572910 |  0.1206157295 |  0.1041082507 | -0.1196212 |\n",
       "| glmpca | 0.001064068 | 0.003519099 | 0.003299366 | -0.0005489744 | -0.0006698051 | -0.1198604 |\n",
       "| rdpca | 0.445276843 | 0.439340136 | 0.362456632 |  0.3240927292 |  0.2915516407 |  0.1537603 |\n",
       "\n"
      ],
      "text/plain": [
       "       0.4         0.5         0.9         1.5           2            \n",
       "pca    0.724705018 0.727061666 0.529866835  0.5057924076  0.4240513493\n",
       "sct    0.242088160 0.188026728 0.172572910  0.1206157295  0.1041082507\n",
       "glmpca 0.001064068 0.003519099 0.003299366 -0.0005489744 -0.0006698051\n",
       "rdpca  0.445276843 0.439340136 0.362456632  0.3240927292  0.2915516407\n",
       "       sils[methods, \"Silhouette\"]\n",
       "pca     0.2602003                 \n",
       "sct    -0.1196212                 \n",
       "glmpca -0.1198604                 \n",
       "rdpca   0.1537603                 "
      ]
     },
     "metadata": {},
     "output_type": "display_data"
    }
   ],
   "source": [
    "df <- cbind(aris,sils[methods,'Silhouette'])"
   ]
  }
 ],
 "metadata": {
  "kernelspec": {
   "display_name": "R",
   "language": "R",
   "name": "ir"
  },
  "language_info": {
   "codemirror_mode": "r",
   "file_extension": ".r",
   "mimetype": "text/x-r-source",
   "name": "R",
   "pygments_lexer": "r",
   "version": "4.0.3"
  }
 },
 "nbformat": 4,
 "nbformat_minor": 4
}
