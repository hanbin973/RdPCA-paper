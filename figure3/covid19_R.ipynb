{
 "cells": [
  {
   "cell_type": "code",
   "execution_count": 1,
   "metadata": {},
   "outputs": [
    {
     "name": "stderr",
     "output_type": "stream",
     "text": [
      "Attaching SeuratObject\n",
      "\n"
     ]
    }
   ],
   "source": [
    "library(Seurat)\n",
    "library(Matrix)\n",
    "library(SeuratWrappers)\n",
    "library(glmGamPoi)\n",
    "library(sctransform)"
   ]
  },
  {
   "cell_type": "code",
   "execution_count": 2,
   "metadata": {},
   "outputs": [
    {
     "name": "stderr",
     "output_type": "stream",
     "text": [
      "Warning message:\n",
      "“The following features are not present in the object: MLF1IP, not searching for symbol synonyms”\n",
      "Centering and scaling data matrix\n",
      "\n"
     ]
    }
   ],
   "source": [
    "expr <- readMM('../data/pbmc_covid19/matrix.mtx')\n",
    "rownames(expr) <- read.csv('../data/pbmc_covid19/features.tsv')$x\n",
    "colnames(expr) <- read.csv('../data/pbmc_covid19/barcodes.tsv')$x\n",
    "pbmc <- CreateSeuratObject(expr)\n",
    "pbmc <- NormalizeData(pbmc)\n",
    "pbmc <- FindVariableFeatures(pbmc, selection.method='vst', nfeatures=3000)\n",
    "s.genes <- cc.genes$s.genes\n",
    "g2m.genes <- cc.genes$g2m.genes\n",
    "pbmc <- CellCycleScoring(pbmc, s.features = s.genes, g2m.features = g2m.genes, set.ident = TRUE)\n",
    "#pbmc <- ScaleData(pbmc, vars.to.regress = c(\"S.Score\", \"G2M.Score\"), features = rownames(pbmc))\n",
    "pbmc <- ScaleData(pbmc, features = rownames(pbmc))"
   ]
  },
  {
   "cell_type": "code",
   "execution_count": 20,
   "metadata": {},
   "outputs": [],
   "source": [
    "pbmc$Donor <- read.csv('../data/pbmc_covid19/meta.csv', row.names=1)$Donor\n",
    "pbmc$celltype <- read.csv('../data/pbmc_covid19/meta.csv', row.names=1)$cell.type.coarse"
   ]
  },
  {
   "cell_type": "markdown",
   "metadata": {},
   "source": [
    "# PCA"
   ]
  },
  {
   "cell_type": "code",
   "execution_count": 3,
   "metadata": {
    "scrolled": true
   },
   "outputs": [
    {
     "name": "stderr",
     "output_type": "stream",
     "text": [
      "PC_ 1 \n",
      "Positive:  SYNE2, TRBC2, SYNE1, GNLY, CCL5, PRF1, FGFBP2, GZMH, GZMA, GZMB \n",
      "\t   IL2RB, IL7R, CD3D, SPTBN1, TRAC, MYBL1, SPON2, TCF7, ABLIM1, CD8A \n",
      "\t   CD3G, IL32, KLRB1, TRIB2, LTB, TIGIT, TRGC2, PRSS23, BCL2, TNIK \n",
      "Negative:  FCN1, LYZ, AIF1, NCF2, CYBB, CST3, S100A9, MNDA, CTSS, VCAN \n",
      "\t   FGL2, SERPINA1, MPEG1, TNFAIP2, S100A8, LST1, PSAP, KLF4, FOS, CFP \n",
      "\t   GRN, TYMP, TGFBI, LILRB2, CD14, COTL1, TKT, DUSP6, CPVL, KCTD12 \n",
      "PC_ 2 \n",
      "Positive:  MS4A1, CD79A, IGHM, BANK1, PAX5, RALGPS2, HLA-DRA, CD22, FAM129C, CD74 \n",
      "\t   CD79B, IGHD, FCRL1, SWAP70, CD19, FCRLA, TCF4, HLA-DQA1, LINC00926, HLA-DRB1 \n",
      "\t   WDFY4, HLA-DOA, SPIB, P2RX5, HLA-DPB1, IGLC3, HLA-DPA1, TCL1A, FCRL2, BCL11A \n",
      "Negative:  PRF1, GNLY, CCL5, FCGR3A, SYNE1, FGFBP2, SYNE2, GZMA, GZMH, GZMB \n",
      "\t   IL2RB, SPON2, CX3CR1, ANXA1, SRGN, LCP1, MYBL1, TYROBP, FCGR3B, S100A4 \n",
      "\t   PRSS23, AOAH, KLRF1, SLAMF7, KLRB1, SAMHD1, TNFRSF1B, NCAM1, SH2D1B, TRDC \n",
      "PC_ 3 \n",
      "Positive:  IL7R, S100A8, VCAN, TCF7, CD14, S100A12, S100A9, SELL, IL6R, MS4A6A \n",
      "\t   LEF1, IL6ST, LDHB, CSF3R, CD36, RCAN3, TRAC, LYZ, DGKA, TRABD2A \n",
      "\t   PLBD1, CD163, CCR7, ACTN1, ALDH2, AMICA1, PADI4, MAL, CAMK4, GPX1 \n",
      "Negative:  FCGR3A, CDKN1C, FCGR3B, AC104809.4, TCF7L2, SIGLEC10, MS4A7, MTSS1, RP11-290F20.3, RHOC \n",
      "\t   LYN, CKB, CSF1R, PIK3AP1, VMO1, CX3CR1, PRF1, GZMB, GNLY, LILRB1 \n",
      "\t   IFITM3, MYOF, FGFBP2, FMNL2, SPON2, NEURL1, SCRN1, WARS, TNFRSF1B, EMR2 \n",
      "PC_ 4 \n",
      "Positive:  IL7R, TCF7, CDKN1C, LTB, LEF1, PAG1, CCR7, TRAC, RCAN3, TRABD2A \n",
      "\t   DGKA, MAL, NAP1L1, CAMK4, AC104809.4, LDHB, TCF7L2, MS4A7, TBC1D4, RP11-290F20.3 \n",
      "\t   NELL2, TRAT1, NOSIP, PABPC1, INPP4B, CD3D, CSF1R, CD28, SIGLEC10, NFKBIZ \n",
      "Negative:  PRF1, GZMB, GNLY, FGFBP2, SPON2, SYNE1, GZMH, IL2RB, GZMA, CCL5 \n",
      "\t   KLRF1, NCAM1, SYK, SLAMF7, PRSS23, MYBL1, SRGN, CX3CR1, AOAH, TRDC \n",
      "\t   TYROBP, SH2D1B, LAT2, HSPA5, PTPRE, HIPK2, S100A8, VCAN, IL18RAP, DTHD1 \n",
      "PC_ 5 \n",
      "Positive:  SDPR, TUBB1, PPBP, PF4, PRKAR2B, ITGB3, GNG11, C2orf88, CLU, HIST1H2AC \n",
      "\t   ITGA2B, F13A1, ACRBP, SPARC, NRGN, RGS18, MYLK, MFAP3L, C6orf25, PTGS1 \n",
      "\t   TAL1, CTDSPL, CTTN, SH3BGRL2, DNM3, PF4V1, STON2, LTBP1, TRIM58, MMD \n",
      "Negative:  S100A8, S100A9, VCAN, CD14, S100A12, LYZ, FCN1, FOS, MS4A1, CSF3R \n",
      "\t   MNDA, JUN, FOSB, NCF1, RNA18S5, CYP1B1, PLBD1, CD93, FPR1, LRRK2 \n",
      "\t   PAX5, NCF2, CD22, LRP1, IGHD, SIRPA, DUSP1, TNFAIP2, CTSS, MS4A6A \n",
      "\n"
     ]
    }
   ],
   "source": [
    "pbmc_pca <- RunPCA(pbmc)"
   ]
  },
  {
   "cell_type": "code",
   "execution_count": 4,
   "metadata": {},
   "outputs": [],
   "source": [
    "write.csv(Embeddings(pbmc_pca), 'pca.csv')"
   ]
  },
  {
   "cell_type": "markdown",
   "metadata": {},
   "source": [
    "# SCTransform"
   ]
  },
  {
   "cell_type": "code",
   "execution_count": 6,
   "metadata": {
    "scrolled": true
   },
   "outputs": [
    {
     "name": "stderr",
     "output_type": "stream",
     "text": [
      "Calculating cell attributes from input UMI matrix: log_umi\n",
      "\n",
      "Variance stabilizing transformation of count matrix of size 23921 by 16627\n",
      "\n",
      "Model formula is y ~ (log_umi) : Donor + Donor + 0\n",
      "\n",
      "Get Negative Binomial regression parameters per gene\n",
      "\n",
      "Using 2000 genes, 5000 cells\n",
      "\n"
     ]
    },
    {
     "name": "stdout",
     "output_type": "stream",
     "text": [
      "  |======================================================================| 100%\n"
     ]
    },
    {
     "name": "stderr",
     "output_type": "stream",
     "text": [
      "Found 213 outliers - those will be ignored in fitting/regularization step\n",
      "\n",
      "\n",
      "Some genes not detected in batch H1 -- assuming a low mean.\n",
      "\n",
      "Some genes not detected in batch H2 -- assuming a low mean.\n",
      "\n",
      "Some genes not detected in batch H3 -- assuming a low mean.\n",
      "\n",
      "Some genes not detected in batch H4 -- assuming a low mean.\n",
      "\n",
      "Some genes not detected in batch H5 -- assuming a low mean.\n",
      "\n",
      "Some genes not detected in batch H6 -- assuming a low mean.\n",
      "\n",
      "Second step: Get residuals using fitted parameters for 23921 genes\n",
      "\n"
     ]
    },
    {
     "name": "stdout",
     "output_type": "stream",
     "text": [
      "  |======================================================================| 100%\n"
     ]
    },
    {
     "name": "stderr",
     "output_type": "stream",
     "text": [
      "Computing corrected count matrix for 23921 genes\n",
      "\n"
     ]
    },
    {
     "name": "stdout",
     "output_type": "stream",
     "text": [
      "  |======================================================================| 100%\n"
     ]
    },
    {
     "name": "stderr",
     "output_type": "stream",
     "text": [
      "Calculating gene attributes\n",
      "\n",
      "Wall clock passed: Time difference of 4.151307 mins\n",
      "\n",
      "Determine variable features\n",
      "\n",
      "Place corrected count matrix in counts slot\n",
      "\n",
      "Regressing out S.Score, G2M.Score\n",
      "\n",
      "Centering data matrix\n",
      "\n",
      "Set default assay to SCT\n",
      "\n"
     ]
    }
   ],
   "source": [
    "pbmc_sct <- SCTransform(pbmc, vars.to.regress=c(\"S.Score\", \"G2M.Score\"), method='glmGamPoi', batch='Donor')"
   ]
  },
  {
   "cell_type": "code",
   "execution_count": 7,
   "metadata": {
    "scrolled": true
   },
   "outputs": [
    {
     "name": "stderr",
     "output_type": "stream",
     "text": [
      "PC_ 1 \n",
      "Positive:  S100A9, LYZ, S100A8, VCAN, PSAP, MKI67, RP11-84C10.2, RP11-597D13.9, CHST13, RNASE3 \n",
      "\t   MFSD7, NEBL, RP11-293M10.5, LINC00968, IL31RA, SERINC2, HTRA1, CMTM2, KCNK13, TUBB1 \n",
      "\t   SDPR, GPR84, OPLAH, RP11-1002K11.1, AC008984.2, RN7SL138P, VSIG4, RNASE1, RP11-452C13.1, CLEC1A \n",
      "Negative:  MS4A1, IGHM, IGLC3, IGHG1, IGLC2, IGJ, IGHA1, IGHG2, IGHG3, IGHA2 \n",
      "\t   HBB, HBA2, IGHG4, IGHV3-30, HBA1, IGLV2-8, IGLV2-14, HBD, UGT8, ZNF205-AS1 \n",
      "\t   AC067945.4, CXXC4, ZBED2, RP1-8B1.4, IGKV3D-15, IGKV3-11, IGKV1D-39, RP11-415F23.3, A2M-AS1, RP11-685M7.3 \n",
      "PC_ 2 \n",
      "Positive:  PSAP, HBB, RP3-467K16.4, HBA2, HBA1, AC067945.4, HBD, TUBB1, A2M-AS1, ST6GALNAC1 \n",
      "\t   LINC00869, PF4, STRIP2, SDPR, ZBTB20-AS1, MLF1, EPHX4, C8G, AL109767.1, CCL4L2 \n",
      "\t   IGSF9B, RP11-47I22.3, NRXN2, ZDHHC11, IGFBP6, UTS2, DCHS1, LEF1-AS1, THEM5, ARHGEF4 \n",
      "Negative:  IGHM, MS4A1, IGLC3, IGLC2, IGJ, IGHG1, IGHA1, IGHG3, IGHG2, S100A9 \n",
      "\t   IGHA2, S100A8, VCAN, IGHG4, LYZ, IGHV3-30, IGLV2-8, IGLV2-14, IGLV2-18, CORO2B \n",
      "\t   UGT8, IGKV3D-15, IL6, IGHV4-61, LINC01013, IGKV3-11, IGHJ3, TXNDC5, AC012065.7, DNAJC5B \n",
      "PC_ 3 \n",
      "Positive:  PSAP, IGJ, IGHA2, IGHA1, IGLC3, IGLC2, LYZ, IGHG4, IGHG1, MKI67 \n",
      "\t   IGLV2-14, TXNDC5, JSRP1, IGLV2-18, EPHA2, CAV1, TP63, RP4-647C14.2, TIFAB, IGHV4-61 \n",
      "\t   CTD-2135D7.5, PLVAP, IGLL1, IGKV3D-15, FAM149A, IGKV3-11, IGHG2, SIGLEC11, XCR1, MRC1L1 \n",
      "Negative:  HBB, HBA2, HBA1, HBD, S100A8, IGHM, S100A9, MS4A1, SELENBP1, CA1 \n",
      "\t   RUNDC3A, OR2W3, CCDC176, VCAN, ARSJ, SPTA1, ZNF534, DNAJC6, CCDC168, AC097467.2 \n",
      "\t   RYR2, ERBB4, ADAM32, MOCOS, CTC-448F2.4, PCDH17, RP11-214O1.3, HAMP, AC090587.2, CTC-340A15.2 \n",
      "PC_ 4 \n",
      "Positive:  IGJ, IGHA1, IGHA2, IGLC3, IGLC2, PSAP, IGHG1, HBB, IGHG2, IGHG3 \n",
      "\t   IGHG4, HBA2, HBA1, HBD, TXNDC5, JSRP1, IGLV2-8, CAV1, IGLV2-14, MKI67 \n",
      "\t   IGLV2-18, IGKV3D-15, IGLL1, TP63, IGHV4-61, AC007386.2, EPHA2, FAM149A, IGKV3-11, ALDH1L2 \n",
      "Negative:  IGHM, MS4A1, S100A8, S100A9, VCAN, CORO2B, IL6, LINC01013, SGCE, U62631.5 \n",
      "\t   C20orf195, STEAP1B, RP11-713C5.1, RP11-112J3.16, SOBP, AC007952.5, SUGCT, RP11-175K6.1, DPEP3, GLI1 \n",
      "\t   ZFHX4, AC145212.1, VAV3-AS1, MYBPC2, OSMR, UGT8, ZNF771, GALNTL6, RP11-624C23.1, AC007880.1 \n",
      "PC_ 5 \n",
      "Positive:  S100A8, S100A9, VCAN, IGHA1, IGHA2, IGJ, IGLC2, IGHG1, CMTM2, IGLC3 \n",
      "\t   IGHG2, IGHG3, IGHG4, ORM1, CAV1, JSRP1, SERPINB10, CTD-2002H8.2, RP1-1J6.2, DEFA1B \n",
      "\t   CRB1, C6orf132, ALPL, CCDC19, GGTLC2, CCL4L2, IGLL1, IGLV2-14, VGLL3, TRPM6 \n",
      "Negative:  PSAP, LYZ, IGHM, HBB, MS4A1, HBA2, HBA1, HBD, CTD-2135D7.5, IGFBP6 \n",
      "\t   MKI67, TRNP1, VSIG4, ACY3, CTC-1337H24.1, RN7SL138P, PGBD5, MRC1L1, WDR65, RP11-452C13.1 \n",
      "\t   OLFML2B, SIGLEC11, RP11-299H21.1, TIFAB, TSKS, TMEM255B, PLVAP, TMEM51, LDHD, FIBCD1 \n",
      "\n"
     ]
    }
   ],
   "source": [
    "pbmc_sct <- RunPCA(pbmc_sct)\n",
    "write.csv(Embeddings(pbmc_sct), 'sct.csv')"
   ]
  },
  {
   "cell_type": "markdown",
   "metadata": {},
   "source": [
    "# GLM-PCA"
   ]
  },
  {
   "cell_type": "code",
   "execution_count": 13,
   "metadata": {},
   "outputs": [
    {
     "name": "stderr",
     "output_type": "stream",
     "text": [
      "Sparse matrices are not supported for minibatch='none'. Coercing to dense matrix. If this exhausts memory, consider setting minibatch to 'stochastic' or 'memoized'.\n",
      "\n"
     ]
    }
   ],
   "source": [
    "pbmc_gpca <- RunGLMPCA(pbmc, L=40, \n",
    "                       X=model.matrix(as.formula('~factor(Donor)+S.Score+G2M.Score'), data=pbmc@meta.data), sz=pbmc@meta.data$nCount_RNA/mean(pbmc@meta.data$nCount_RNA))"
   ]
  },
  {
   "cell_type": "code",
   "execution_count": 14,
   "metadata": {},
   "outputs": [],
   "source": [
    "write.csv(Embeddings(pbmc_gpca, reduction='glmpca'), 'glmpca.csv')"
   ]
  },
  {
   "cell_type": "markdown",
   "metadata": {},
   "source": [
    "# ARI & Silhouette"
   ]
  },
  {
   "cell_type": "code",
   "execution_count": 15,
   "metadata": {},
   "outputs": [
    {
     "name": "stderr",
     "output_type": "stream",
     "text": [
      "Package 'mclust' version 5.4.7\n",
      "Type 'citation(\"mclust\")' for citing this R package in publications.\n",
      "\n"
     ]
    }
   ],
   "source": [
    "library(mclust)\n",
    "library(cluster)"
   ]
  },
  {
   "cell_type": "code",
   "execution_count": 16,
   "metadata": {},
   "outputs": [],
   "source": [
    "pca <- read.csv('pca.csv', row.names=1)\n",
    "sct <- read.csv('sct.csv', row.names=1)\n",
    "glmpca <- read.csv('glmpca.csv', row.names=1)\n",
    "rdpca <- read.csv('rdpca.csv', header=FALSE)\n",
    "rownames(rdpca) <- rownames(pca)\n",
    "\n",
    "pbmc[['pca']] <- CreateDimReducObject(embeddings = as.matrix(pca), key = \"pc_\", assay='RNA')\n",
    "pbmc[['sct']] <- CreateDimReducObject(embeddings = as.matrix(sct), key = \"sct_\", assay='RNA')\n",
    "pbmc[['glmpca']] <- CreateDimReducObject(embeddings = as.matrix(glmpca), key = \"glmpc_\", assay='RNA')\n",
    "pbmc[['rdpca']] <- CreateDimReducObject(embeddings = as.matrix(rdpca), key = \"rdpc_\", assay='RNA')"
   ]
  },
  {
   "cell_type": "code",
   "execution_count": 26,
   "metadata": {
    "scrolled": true
   },
   "outputs": [
    {
     "name": "stdout",
     "output_type": "stream",
     "text": [
      "[1] \"pca\"\n",
      "[1] 17\n",
      "[1] 0.7553787\n",
      "[1] \"sct\"\n",
      "[1] 21\n",
      "[1] 0.1810268\n",
      "[1] \"glmpca\"\n",
      "[1] 3\n",
      "[1] 0.002970305\n",
      "[1] \"rdpca\"\n",
      "[1] 15\n",
      "[1] 0.474166\n"
     ]
    }
   ],
   "source": [
    "celltype <- pbmc$celltype\n",
    "intname <- 1:length(unique(celltype))\n",
    "names(intname) <- unique(celltype)\n",
    "for (method in c('pca', 'sct', 'glmpca', 'rdpca')){\n",
    "    obj <- FindNeighbors(pbmc, reduction=method, dims=1:40, verbose=FALSE)\n",
    "    obj <- FindClusters(obj, resolution=0.5, verbose=FALSE)\n",
    "    \n",
    "    print(method)\n",
    "    print(length(unique(obj$seurat_clusters)))\n",
    "    print(adjustedRandIndex(obj$seurat_clusters, celltype))\n",
    "}\n",
    "\n",
    "for (method in c('pca', 'sct', 'glmpca', 'rdpca')){\n",
    "    \n",
    "    dist_mat <- dist(Embeddings(pbmc, reduction=method))\n",
    "    silscore <- silhouette(as.vector(intname[celltype]), dist_mat) \n",
    "    \n",
    "    print(method)\n",
    "    print(summary(silscore)$avg.width)\n",
    "\n",
    "}"
   ]
  }
 ],
 "metadata": {
  "kernelspec": {
   "display_name": "R",
   "language": "R",
   "name": "ir"
  },
  "language_info": {
   "codemirror_mode": "r",
   "file_extension": ".r",
   "mimetype": "text/x-r-source",
   "name": "R",
   "pygments_lexer": "r",
   "version": "4.0.3"
  }
 },
 "nbformat": 4,
 "nbformat_minor": 4
}
